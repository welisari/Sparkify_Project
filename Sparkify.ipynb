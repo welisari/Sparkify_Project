{
 "cells": [
  {
   "cell_type": "markdown",
   "metadata": {},
   "source": [
    "# Sparkify Project Workspace\n",
    "This workspace contains a tiny subset (128MB) of the full dataset available (12GB). Feel free to use this workspace to build your project, or to explore a smaller subset with Spark before deploying your cluster on the cloud. Instructions for setting up your Spark cluster is included in the last lesson of the Extracurricular Spark Course content.\n",
    "\n",
    "You can follow the steps below to guide your data analysis and model building portion of this project."
   ]
  },
  {
   "cell_type": "code",
   "execution_count": 1,
   "metadata": {},
   "outputs": [],
   "source": [
    "# import libraries\n",
    "from pyspark.sql import SparkSession"
   ]
  },
  {
   "cell_type": "code",
   "execution_count": 2,
   "metadata": {},
   "outputs": [],
   "source": [
    "#importing pyspark sql functions and other python libraries\n",
    "from pyspark.sql.functions import avg, stddev, first,col, concat, desc, explode, lit, min, max, split, udf, isnull,from_unixtime,count,when,asc,desc\n",
    "from pyspark.sql.types import IntegerType,DateType\n",
    "from pyspark.sql.functions import sum as Fsum\n",
    "import pyspark.sql.functions as f\n",
    "from pyspark.sql import Window\n",
    "\n",
    "import re\n",
    "import datetime\n",
    "import matplotlib.pyplot as plt\n",
    "import pandas as pd\n",
    "import seaborn as sns\n",
    "import numpy as np\n",
    "import time"
   ]
  },
  {
   "cell_type": "code",
   "execution_count": 3,
   "metadata": {},
   "outputs": [],
   "source": [
    "#import ML Libraries\n",
    "from pyspark.ml.feature import CountVectorizer, IDF, Normalizer, StandardScaler, StringIndexer, VectorAssembler\n",
    "from pyspark.ml import Pipeline\n",
    "from pyspark.ml.classification import LogisticRegression, RandomForestClassifier, GBTClassifier, DecisionTreeClassifier, NaiveBayes,LinearSVC\n",
    "from pyspark.ml.evaluation import MulticlassClassificationEvaluator, BinaryClassificationEvaluator\n",
    "from pyspark.ml.regression import LinearRegression\n",
    "from pyspark.ml.tuning import CrossValidator, ParamGridBuilder"
   ]
  },
  {
   "cell_type": "code",
   "execution_count": 4,
   "metadata": {},
   "outputs": [],
   "source": [
    "# create a Spark session\n",
    "spark = SparkSession \\\n",
    "    .builder \\\n",
    "    .appName(\"Sparkify CapStone Project\") \\\n",
    "    .getOrCreate()"
   ]
  },
  {
   "cell_type": "markdown",
   "metadata": {},
   "source": [
    "# Load and Clean Dataset\n",
    "In this workspace, the mini-dataset file is `mini_sparkify_event_data.json`. Load and clean the dataset, checking for invalid or missing data - for example, records without userids or sessionids. "
   ]
  },
  {
   "cell_type": "code",
   "execution_count": 5,
   "metadata": {},
   "outputs": [],
   "source": [
    "# Read in full sparkify dataset\n",
    "sparkify_data = 'mini_sparkify_event_data.json'\n",
    "df = spark.read.json(sparkify_data)"
   ]
  },
  {
   "cell_type": "markdown",
   "metadata": {},
   "source": [
    "# Exploratory Data Analysis\n",
    "When you're working with the full dataset, perform EDA by loading a small subset of the data and doing basic manipulations within Spark. In this workspace, you are already provided a small subset of data you can explore.\n"
   ]
  },
  {
   "cell_type": "markdown",
   "metadata": {},
   "source": [
    "### 1. Initial Analysis"
   ]
  },
  {
   "cell_type": "code",
   "execution_count": 6,
   "metadata": {},
   "outputs": [
    {
     "name": "stdout",
     "output_type": "stream",
     "text": [
      "root\n",
      " |-- artist: string (nullable = true)\n",
      " |-- auth: string (nullable = true)\n",
      " |-- firstName: string (nullable = true)\n",
      " |-- gender: string (nullable = true)\n",
      " |-- itemInSession: long (nullable = true)\n",
      " |-- lastName: string (nullable = true)\n",
      " |-- length: double (nullable = true)\n",
      " |-- level: string (nullable = true)\n",
      " |-- location: string (nullable = true)\n",
      " |-- method: string (nullable = true)\n",
      " |-- page: string (nullable = true)\n",
      " |-- registration: long (nullable = true)\n",
      " |-- sessionId: long (nullable = true)\n",
      " |-- song: string (nullable = true)\n",
      " |-- status: long (nullable = true)\n",
      " |-- ts: long (nullable = true)\n",
      " |-- userAgent: string (nullable = true)\n",
      " |-- userId: string (nullable = true)\n",
      "\n"
     ]
    }
   ],
   "source": [
    "df.printSchema()"
   ]
  },
  {
   "cell_type": "code",
   "execution_count": 7,
   "metadata": {},
   "outputs": [
    {
     "data": {
      "text/html": [
       "<div>\n",
       "<style scoped>\n",
       "    .dataframe tbody tr th:only-of-type {\n",
       "        vertical-align: middle;\n",
       "    }\n",
       "\n",
       "    .dataframe tbody tr th {\n",
       "        vertical-align: top;\n",
       "    }\n",
       "\n",
       "    .dataframe thead th {\n",
       "        text-align: right;\n",
       "    }\n",
       "</style>\n",
       "<table border=\"1\" class=\"dataframe\">\n",
       "  <thead>\n",
       "    <tr style=\"text-align: right;\">\n",
       "      <th></th>\n",
       "      <th>artist</th>\n",
       "      <th>auth</th>\n",
       "      <th>firstName</th>\n",
       "      <th>gender</th>\n",
       "      <th>itemInSession</th>\n",
       "      <th>lastName</th>\n",
       "      <th>length</th>\n",
       "      <th>level</th>\n",
       "      <th>location</th>\n",
       "      <th>method</th>\n",
       "      <th>page</th>\n",
       "      <th>registration</th>\n",
       "      <th>sessionId</th>\n",
       "      <th>song</th>\n",
       "      <th>status</th>\n",
       "      <th>ts</th>\n",
       "      <th>userAgent</th>\n",
       "      <th>userId</th>\n",
       "    </tr>\n",
       "  </thead>\n",
       "  <tbody>\n",
       "    <tr>\n",
       "      <th>0</th>\n",
       "      <td>Martha Tilston</td>\n",
       "      <td>Logged In</td>\n",
       "      <td>Colin</td>\n",
       "      <td>M</td>\n",
       "      <td>50</td>\n",
       "      <td>Freeman</td>\n",
       "      <td>277.89016</td>\n",
       "      <td>paid</td>\n",
       "      <td>Bakersfield, CA</td>\n",
       "      <td>PUT</td>\n",
       "      <td>NextSong</td>\n",
       "      <td>1538173362000</td>\n",
       "      <td>29</td>\n",
       "      <td>Rockpools</td>\n",
       "      <td>200</td>\n",
       "      <td>1538352117000</td>\n",
       "      <td>Mozilla/5.0 (Windows NT 6.1; WOW64; rv:31.0) G...</td>\n",
       "      <td>30</td>\n",
       "    </tr>\n",
       "    <tr>\n",
       "      <th>1</th>\n",
       "      <td>Five Iron Frenzy</td>\n",
       "      <td>Logged In</td>\n",
       "      <td>Micah</td>\n",
       "      <td>M</td>\n",
       "      <td>79</td>\n",
       "      <td>Long</td>\n",
       "      <td>236.09424</td>\n",
       "      <td>free</td>\n",
       "      <td>Boston-Cambridge-Newton, MA-NH</td>\n",
       "      <td>PUT</td>\n",
       "      <td>NextSong</td>\n",
       "      <td>1538331630000</td>\n",
       "      <td>8</td>\n",
       "      <td>Canada</td>\n",
       "      <td>200</td>\n",
       "      <td>1538352180000</td>\n",
       "      <td>\"Mozilla/5.0 (Windows NT 6.1; WOW64) AppleWebK...</td>\n",
       "      <td>9</td>\n",
       "    </tr>\n",
       "    <tr>\n",
       "      <th>2</th>\n",
       "      <td>Adam Lambert</td>\n",
       "      <td>Logged In</td>\n",
       "      <td>Colin</td>\n",
       "      <td>M</td>\n",
       "      <td>51</td>\n",
       "      <td>Freeman</td>\n",
       "      <td>282.82730</td>\n",
       "      <td>paid</td>\n",
       "      <td>Bakersfield, CA</td>\n",
       "      <td>PUT</td>\n",
       "      <td>NextSong</td>\n",
       "      <td>1538173362000</td>\n",
       "      <td>29</td>\n",
       "      <td>Time For Miracles</td>\n",
       "      <td>200</td>\n",
       "      <td>1538352394000</td>\n",
       "      <td>Mozilla/5.0 (Windows NT 6.1; WOW64; rv:31.0) G...</td>\n",
       "      <td>30</td>\n",
       "    </tr>\n",
       "    <tr>\n",
       "      <th>3</th>\n",
       "      <td>Enigma</td>\n",
       "      <td>Logged In</td>\n",
       "      <td>Micah</td>\n",
       "      <td>M</td>\n",
       "      <td>80</td>\n",
       "      <td>Long</td>\n",
       "      <td>262.71302</td>\n",
       "      <td>free</td>\n",
       "      <td>Boston-Cambridge-Newton, MA-NH</td>\n",
       "      <td>PUT</td>\n",
       "      <td>NextSong</td>\n",
       "      <td>1538331630000</td>\n",
       "      <td>8</td>\n",
       "      <td>Knocking On Forbidden Doors</td>\n",
       "      <td>200</td>\n",
       "      <td>1538352416000</td>\n",
       "      <td>\"Mozilla/5.0 (Windows NT 6.1; WOW64) AppleWebK...</td>\n",
       "      <td>9</td>\n",
       "    </tr>\n",
       "    <tr>\n",
       "      <th>4</th>\n",
       "      <td>Daft Punk</td>\n",
       "      <td>Logged In</td>\n",
       "      <td>Colin</td>\n",
       "      <td>M</td>\n",
       "      <td>52</td>\n",
       "      <td>Freeman</td>\n",
       "      <td>223.60771</td>\n",
       "      <td>paid</td>\n",
       "      <td>Bakersfield, CA</td>\n",
       "      <td>PUT</td>\n",
       "      <td>NextSong</td>\n",
       "      <td>1538173362000</td>\n",
       "      <td>29</td>\n",
       "      <td>Harder Better Faster Stronger</td>\n",
       "      <td>200</td>\n",
       "      <td>1538352676000</td>\n",
       "      <td>Mozilla/5.0 (Windows NT 6.1; WOW64; rv:31.0) G...</td>\n",
       "      <td>30</td>\n",
       "    </tr>\n",
       "  </tbody>\n",
       "</table>\n",
       "</div>"
      ],
      "text/plain": [
       "             artist       auth firstName gender  itemInSession lastName  \\\n",
       "0    Martha Tilston  Logged In     Colin      M             50  Freeman   \n",
       "1  Five Iron Frenzy  Logged In     Micah      M             79     Long   \n",
       "2      Adam Lambert  Logged In     Colin      M             51  Freeman   \n",
       "3            Enigma  Logged In     Micah      M             80     Long   \n",
       "4         Daft Punk  Logged In     Colin      M             52  Freeman   \n",
       "\n",
       "      length level                        location method      page  \\\n",
       "0  277.89016  paid                 Bakersfield, CA    PUT  NextSong   \n",
       "1  236.09424  free  Boston-Cambridge-Newton, MA-NH    PUT  NextSong   \n",
       "2  282.82730  paid                 Bakersfield, CA    PUT  NextSong   \n",
       "3  262.71302  free  Boston-Cambridge-Newton, MA-NH    PUT  NextSong   \n",
       "4  223.60771  paid                 Bakersfield, CA    PUT  NextSong   \n",
       "\n",
       "    registration  sessionId                           song  status  \\\n",
       "0  1538173362000         29                      Rockpools     200   \n",
       "1  1538331630000          8                         Canada     200   \n",
       "2  1538173362000         29              Time For Miracles     200   \n",
       "3  1538331630000          8    Knocking On Forbidden Doors     200   \n",
       "4  1538173362000         29  Harder Better Faster Stronger     200   \n",
       "\n",
       "              ts                                          userAgent userId  \n",
       "0  1538352117000  Mozilla/5.0 (Windows NT 6.1; WOW64; rv:31.0) G...     30  \n",
       "1  1538352180000  \"Mozilla/5.0 (Windows NT 6.1; WOW64) AppleWebK...      9  \n",
       "2  1538352394000  Mozilla/5.0 (Windows NT 6.1; WOW64; rv:31.0) G...     30  \n",
       "3  1538352416000  \"Mozilla/5.0 (Windows NT 6.1; WOW64) AppleWebK...      9  \n",
       "4  1538352676000  Mozilla/5.0 (Windows NT 6.1; WOW64; rv:31.0) G...     30  "
      ]
     },
     "execution_count": 7,
     "metadata": {},
     "output_type": "execute_result"
    }
   ],
   "source": [
    "# Look the data frame samples in tabular format\n",
    "pd.DataFrame(df.take(5), columns=df.columns).head(5)"
   ]
  },
  {
   "cell_type": "markdown",
   "metadata": {},
   "source": [
    "#### 1.1  Exploring the values of some categoric columns"
   ]
  },
  {
   "cell_type": "code",
   "execution_count": 8,
   "metadata": {},
   "outputs": [
    {
     "name": "stdout",
     "output_type": "stream",
     "text": [
      "+-----+\n",
      "|level|\n",
      "+-----+\n",
      "| free|\n",
      "| paid|\n",
      "+-----+\n",
      "\n"
     ]
    }
   ],
   "source": [
    "#account paid status\n",
    "df.select(\"level\").distinct().show()"
   ]
  },
  {
   "cell_type": "code",
   "execution_count": 9,
   "metadata": {},
   "outputs": [
    {
     "name": "stdout",
     "output_type": "stream",
     "text": [
      "+--------------------+\n",
      "|                page|\n",
      "+--------------------+\n",
      "|              Cancel|\n",
      "|    Submit Downgrade|\n",
      "|         Thumbs Down|\n",
      "|                Home|\n",
      "|           Downgrade|\n",
      "|         Roll Advert|\n",
      "|              Logout|\n",
      "|       Save Settings|\n",
      "|Cancellation Conf...|\n",
      "|               About|\n",
      "| Submit Registration|\n",
      "|            Settings|\n",
      "|               Login|\n",
      "|            Register|\n",
      "|     Add to Playlist|\n",
      "|          Add Friend|\n",
      "|            NextSong|\n",
      "|           Thumbs Up|\n",
      "|                Help|\n",
      "|             Upgrade|\n",
      "+--------------------+\n",
      "only showing top 20 rows\n",
      "\n"
     ]
    }
   ],
   "source": [
    "#which pages are visited\n",
    "df.select(\"page\").distinct().show()"
   ]
  },
  {
   "cell_type": "code",
   "execution_count": 10,
   "metadata": {},
   "outputs": [
    {
     "name": "stdout",
     "output_type": "stream",
     "text": [
      "+------+\n",
      "|status|\n",
      "+------+\n",
      "|   307|\n",
      "|   404|\n",
      "|   200|\n",
      "+------+\n",
      "\n",
      "+------+------+\n",
      "|status| count|\n",
      "+------+------+\n",
      "|   307| 26430|\n",
      "|   404|   258|\n",
      "|   200|259812|\n",
      "+------+------+\n",
      "\n"
     ]
    }
   ],
   "source": [
    "#HTTP respond status\n",
    "df.select(\"status\").distinct().show()\n",
    "df.groupBy(\"status\").count().show()"
   ]
  },
  {
   "cell_type": "markdown",
   "metadata": {},
   "source": [
    "over the 90% of all requests are suceeded."
   ]
  },
  {
   "cell_type": "code",
   "execution_count": 11,
   "metadata": {},
   "outputs": [
    {
     "name": "stdout",
     "output_type": "stream",
     "text": [
      "+------+\n",
      "|gender|\n",
      "+------+\n",
      "|     F|\n",
      "|  null|\n",
      "|     M|\n",
      "+------+\n",
      "\n"
     ]
    }
   ],
   "source": [
    "#which values are in the gender columns\n",
    "df.select(\"gender\").distinct().show()"
   ]
  },
  {
   "cell_type": "code",
   "execution_count": 12,
   "metadata": {},
   "outputs": [
    {
     "name": "stdout",
     "output_type": "stream",
     "text": [
      "+----------+\n",
      "|      auth|\n",
      "+----------+\n",
      "|Logged Out|\n",
      "| Cancelled|\n",
      "|     Guest|\n",
      "| Logged In|\n",
      "+----------+\n",
      "\n"
     ]
    }
   ],
   "source": [
    "#exploring the authorization column \n",
    "df.select(\"auth\").distinct().show()"
   ]
  },
  {
   "cell_type": "markdown",
   "metadata": {},
   "source": [
    "#### 1.2 Checking the counts and Null or Empty Values"
   ]
  },
  {
   "cell_type": "code",
   "execution_count": 13,
   "metadata": {},
   "outputs": [
    {
     "name": "stdout",
     "output_type": "stream",
     "text": [
      "The number of all records in the dataset: 286500\n"
     ]
    }
   ],
   "source": [
    "# Number of Records in Data Set\n",
    "print(\"The number of all records in the dataset: {}\".format(df.count()))"
   ]
  },
  {
   "cell_type": "code",
   "execution_count": 14,
   "metadata": {},
   "outputs": [
    {
     "name": "stdout",
     "output_type": "stream",
     "text": [
      "+-----------+\n",
      "|min(UserID)|\n",
      "+-----------+\n",
      "|           |\n",
      "+-----------+\n",
      "\n",
      "+-----------+\n",
      "|max(UserID)|\n",
      "+-----------+\n",
      "|         99|\n",
      "+-----------+\n",
      "\n"
     ]
    }
   ],
   "source": [
    "#Explore the min and max values of UserIds\n",
    "df.agg(min(\"UserID\")).show()\n",
    "df.agg(max(\"UserID\")).show()"
   ]
  },
  {
   "cell_type": "markdown",
   "metadata": {},
   "source": [
    "It seems that there are some empty values in the UserID field !\n"
   ]
  },
  {
   "cell_type": "code",
   "execution_count": 15,
   "metadata": {},
   "outputs": [
    {
     "name": "stdout",
     "output_type": "stream",
     "text": [
      "#UserIds# \n",
      " null ids: 0\n",
      " empty ids: 8346\n"
     ]
    }
   ],
   "source": [
    "#Checking how many null or empty UserIds\n",
    "print(f'#UserIds# \\n null ids:',df.where(isnull(df['userId'])).count())  \n",
    "print(f' empty ids:',df.where(df['userId']=='').count())  "
   ]
  },
  {
   "cell_type": "markdown",
   "metadata": {},
   "source": [
    "Eventhough there is no null values, there are 8346 records where userId field is empty(\" \") in dataset."
   ]
  },
  {
   "cell_type": "code",
   "execution_count": 16,
   "metadata": {},
   "outputs": [
    {
     "name": "stdout",
     "output_type": "stream",
     "text": [
      "Number of unique users are: 226\n"
     ]
    }
   ],
   "source": [
    "# Number of Unique User Ids\n",
    "print(f'Number of unique users are:',df.select('userId').distinct().count())"
   ]
  },
  {
   "cell_type": "code",
   "execution_count": 17,
   "metadata": {},
   "outputs": [
    {
     "name": "stdout",
     "output_type": "stream",
     "text": [
      "+------+----+---------+------+-------------+--------+------+-----+--------+------+----+------------+---------+-----+------+---+---------+------+\n",
      "|artist|auth|firstName|gender|itemInSession|lastName|length|level|location|method|page|registration|sessionId| song|status| ts|userAgent|userId|\n",
      "+------+----+---------+------+-------------+--------+------+-----+--------+------+----+------------+---------+-----+------+---+---------+------+\n",
      "| 58392|   0|     8346|  8346|            0|    8346| 58392|    0|    8346|     0|   0|        8346|        0|58392|     0|  0|     8346|     0|\n",
      "+------+----+---------+------+-------------+--------+------+-----+--------+------+----+------------+---------+-----+------+---+---------+------+\n",
      "\n"
     ]
    }
   ],
   "source": [
    "#cheking all fields for the null values thorugh the nested sql loop\n",
    "#reference : https://stackoverflow.com/a/44631639/13076699\n",
    "df.select([count(when(isnull(col), col)).alias(col) for col in df.columns]).show()"
   ]
  },
  {
   "cell_type": "markdown",
   "metadata": {},
   "source": [
    "It seems that \"artist\",\"length\", and \"song\" fields have equal number of Nulls, which may show the same way of pattern in all these columns.\n",
    "\n",
    "Also, \"firstname\",\"gender\",\"lastname\", \"location\",\"registration\", and \"userAgent\" have also the same number of Nulls"
   ]
  },
  {
   "cell_type": "code",
   "execution_count": 18,
   "metadata": {},
   "outputs": [
    {
     "name": "stdout",
     "output_type": "stream",
     "text": [
      "+------+---------+------+--------+--------+------------+---------+\n",
      "|UserId|firstname|gender|lastname|location|registration|userAgent|\n",
      "+------+---------+------+--------+--------+------------+---------+\n",
      "|      |     null|  null|    null|    null|        null|     null|\n",
      "+------+---------+------+--------+--------+------------+---------+\n",
      "\n"
     ]
    }
   ],
   "source": [
    "#Checking if any user with firstname has UserID\n",
    "df.select([\"UserId\",\"firstname\",\"gender\",\"lastname\",\"location\",\"registration\",\"userAgent\"])\\\n",
    ".filter(isnull(df['firstname'])).distinct().show()"
   ]
  },
  {
   "cell_type": "markdown",
   "metadata": {},
   "source": [
    "It turns out the null values for \"firstname\",\"gender\",\"lastname\",\"location\",\"registration\",\"userAgent\" fields are the rows where UserIds are empty. So, we will drop the rows with empty UserId's then."
   ]
  },
  {
   "cell_type": "code",
   "execution_count": 19,
   "metadata": {},
   "outputs": [
    {
     "name": "stdout",
     "output_type": "stream",
     "text": [
      "+------+------+----+----------+-------------------+-----+\n",
      "|artist|length|song|      auth|               page|count|\n",
      "+------+------+----+----------+-------------------+-----+\n",
      "|  null|  null|null|Logged Out|               Home| 4339|\n",
      "|  null|  null|null|     Guest|           Register|   18|\n",
      "|  null|  null|null|Logged Out|              Error|    5|\n",
      "|  null|  null|null|     Guest|              About|   14|\n",
      "|  null|  null|null|     Guest|              Error|    1|\n",
      "|  null|  null|null|Logged Out|              Login| 3241|\n",
      "|  null|  null|null|Logged Out|               Help|  249|\n",
      "|  null|  null|null|     Guest|Submit Registration|    5|\n",
      "|  null|  null|null|Logged Out|              About|  415|\n",
      "|  null|  null|null|     Guest|               Help|   23|\n",
      "|  null|  null|null|     Guest|               Home|   36|\n",
      "+------+------+----+----------+-------------------+-----+\n",
      "\n",
      "+--------------------+-----+\n",
      "|                page|count|\n",
      "+--------------------+-----+\n",
      "|              Cancel|   52|\n",
      "|    Submit Downgrade|   63|\n",
      "|         Thumbs Down| 2546|\n",
      "|                Home|14457|\n",
      "|           Downgrade| 2055|\n",
      "|         Roll Advert| 3933|\n",
      "|              Logout| 3226|\n",
      "|       Save Settings|  310|\n",
      "|Cancellation Conf...|   52|\n",
      "|               About|  924|\n",
      "| Submit Registration|    5|\n",
      "|            Settings| 1514|\n",
      "|               Login| 3241|\n",
      "|            Register|   18|\n",
      "|     Add to Playlist| 6526|\n",
      "|          Add Friend| 4277|\n",
      "|           Thumbs Up|12551|\n",
      "|                Help| 1726|\n",
      "|             Upgrade|  499|\n",
      "|               Error|  258|\n",
      "|      Submit Upgrade|  159|\n",
      "+--------------------+-----+\n",
      "\n"
     ]
    }
   ],
   "source": [
    "#checking in additional circumstances where artist is null\n",
    "df.filter(isnull(df['artist']) & (df['userId']=='')).groupBy([\"artist\",\"length\",\"song\",\"auth\",\"page\"]).count().show()\n",
    "df.filter(isnull(df['artist'])).groupBy([\"page\"]).count().show(30)"
   ]
  },
  {
   "cell_type": "markdown",
   "metadata": {},
   "source": [
    "It shows that artist and song values are null when \"aut\" is \"Logged Out\" or \"Guest\" and when there is no \"NextSong\" page"
   ]
  },
  {
   "cell_type": "markdown",
   "metadata": {},
   "source": [
    "#### 1.3 Cleaning and Formatting the Data Frame"
   ]
  },
  {
   "cell_type": "code",
   "execution_count": 20,
   "metadata": {},
   "outputs": [],
   "source": [
    "# Delete the records where userIds are empty and create a new dataframe\n",
    "df_cleaned = df.filter(df['userId']!='')\n",
    "# filter out log out records\n",
    "df_cleaned = df_cleaned.filter(df_cleaned['auth']!='Logged Out')"
   ]
  },
  {
   "cell_type": "code",
   "execution_count": 21,
   "metadata": {},
   "outputs": [],
   "source": [
    "# Definig user functions to get hour, day, month, weekday and formatted data time for the further time based analysis\n",
    "\n",
    "get_hour = udf(lambda x: datetime.datetime.fromtimestamp(x / 1000.0).hour)\n",
    "get_day = udf(lambda x: datetime.datetime.fromtimestamp(x / 1000.0).day)\n",
    "get_month = udf(lambda x: datetime.datetime.fromtimestamp(x / 1000.0).month)\n",
    "get_weekday = udf(lambda x: datetime.datetime.fromtimestamp(x / 1000.0).strftime('%w'))\n",
    "get_time = udf(lambda x: datetime.datetime.fromtimestamp(x / 1000.0).strftime(\"%Y-%m-%d %H:%M:%S\")) #formatted date time\n",
    "\n",
    "\n",
    "# a mapping to colum with the appropriate function\n",
    "funcs = {'hour':get_hour, 'day':get_day, 'month':get_month, 'week_day':get_weekday,'time':get_time}\n",
    "\n",
    "# Adding columns to the dataframe\n",
    "for newcol, func in funcs.items():\n",
    "    df_cleaned = df_cleaned.withColumn(newcol, func(df_cleaned.ts))\n",
    "\n",
    "    \n"
   ]
  },
  {
   "cell_type": "code",
   "execution_count": 22,
   "metadata": {},
   "outputs": [],
   "source": [
    "#add new columns: city and state info extracting from location\n",
    "df_cleaned = df_cleaned.withColumn('city', split(col('location'),',').getItem(0))\n",
    "df_cleaned = df_cleaned.withColumn('state', split(col('location'),',').getItem(1))"
   ]
  },
  {
   "cell_type": "code",
   "execution_count": 23,
   "metadata": {},
   "outputs": [
    {
     "data": {
      "text/html": [
       "<div>\n",
       "<style scoped>\n",
       "    .dataframe tbody tr th:only-of-type {\n",
       "        vertical-align: middle;\n",
       "    }\n",
       "\n",
       "    .dataframe tbody tr th {\n",
       "        vertical-align: top;\n",
       "    }\n",
       "\n",
       "    .dataframe thead th {\n",
       "        text-align: right;\n",
       "    }\n",
       "</style>\n",
       "<table border=\"1\" class=\"dataframe\">\n",
       "  <thead>\n",
       "    <tr style=\"text-align: right;\">\n",
       "      <th></th>\n",
       "      <th>artist</th>\n",
       "      <th>auth</th>\n",
       "      <th>firstName</th>\n",
       "      <th>gender</th>\n",
       "      <th>itemInSession</th>\n",
       "      <th>lastName</th>\n",
       "      <th>length</th>\n",
       "      <th>level</th>\n",
       "      <th>location</th>\n",
       "      <th>method</th>\n",
       "      <th>...</th>\n",
       "      <th>ts</th>\n",
       "      <th>userAgent</th>\n",
       "      <th>userId</th>\n",
       "      <th>hour</th>\n",
       "      <th>day</th>\n",
       "      <th>month</th>\n",
       "      <th>week_day</th>\n",
       "      <th>time</th>\n",
       "      <th>city</th>\n",
       "      <th>state</th>\n",
       "    </tr>\n",
       "  </thead>\n",
       "  <tbody>\n",
       "    <tr>\n",
       "      <th>0</th>\n",
       "      <td>Martha Tilston</td>\n",
       "      <td>Logged In</td>\n",
       "      <td>Colin</td>\n",
       "      <td>M</td>\n",
       "      <td>50</td>\n",
       "      <td>Freeman</td>\n",
       "      <td>277.89016</td>\n",
       "      <td>paid</td>\n",
       "      <td>Bakersfield, CA</td>\n",
       "      <td>PUT</td>\n",
       "      <td>...</td>\n",
       "      <td>1538352117000</td>\n",
       "      <td>Mozilla/5.0 (Windows NT 6.1; WOW64; rv:31.0) G...</td>\n",
       "      <td>30</td>\n",
       "      <td>0</td>\n",
       "      <td>1</td>\n",
       "      <td>10</td>\n",
       "      <td>1</td>\n",
       "      <td>2018-10-01 00:01:57</td>\n",
       "      <td>Bakersfield</td>\n",
       "      <td>CA</td>\n",
       "    </tr>\n",
       "    <tr>\n",
       "      <th>1</th>\n",
       "      <td>Five Iron Frenzy</td>\n",
       "      <td>Logged In</td>\n",
       "      <td>Micah</td>\n",
       "      <td>M</td>\n",
       "      <td>79</td>\n",
       "      <td>Long</td>\n",
       "      <td>236.09424</td>\n",
       "      <td>free</td>\n",
       "      <td>Boston-Cambridge-Newton, MA-NH</td>\n",
       "      <td>PUT</td>\n",
       "      <td>...</td>\n",
       "      <td>1538352180000</td>\n",
       "      <td>\"Mozilla/5.0 (Windows NT 6.1; WOW64) AppleWebK...</td>\n",
       "      <td>9</td>\n",
       "      <td>0</td>\n",
       "      <td>1</td>\n",
       "      <td>10</td>\n",
       "      <td>1</td>\n",
       "      <td>2018-10-01 00:03:00</td>\n",
       "      <td>Boston-Cambridge-Newton</td>\n",
       "      <td>MA-NH</td>\n",
       "    </tr>\n",
       "    <tr>\n",
       "      <th>2</th>\n",
       "      <td>Adam Lambert</td>\n",
       "      <td>Logged In</td>\n",
       "      <td>Colin</td>\n",
       "      <td>M</td>\n",
       "      <td>51</td>\n",
       "      <td>Freeman</td>\n",
       "      <td>282.82730</td>\n",
       "      <td>paid</td>\n",
       "      <td>Bakersfield, CA</td>\n",
       "      <td>PUT</td>\n",
       "      <td>...</td>\n",
       "      <td>1538352394000</td>\n",
       "      <td>Mozilla/5.0 (Windows NT 6.1; WOW64; rv:31.0) G...</td>\n",
       "      <td>30</td>\n",
       "      <td>0</td>\n",
       "      <td>1</td>\n",
       "      <td>10</td>\n",
       "      <td>1</td>\n",
       "      <td>2018-10-01 00:06:34</td>\n",
       "      <td>Bakersfield</td>\n",
       "      <td>CA</td>\n",
       "    </tr>\n",
       "    <tr>\n",
       "      <th>3</th>\n",
       "      <td>Enigma</td>\n",
       "      <td>Logged In</td>\n",
       "      <td>Micah</td>\n",
       "      <td>M</td>\n",
       "      <td>80</td>\n",
       "      <td>Long</td>\n",
       "      <td>262.71302</td>\n",
       "      <td>free</td>\n",
       "      <td>Boston-Cambridge-Newton, MA-NH</td>\n",
       "      <td>PUT</td>\n",
       "      <td>...</td>\n",
       "      <td>1538352416000</td>\n",
       "      <td>\"Mozilla/5.0 (Windows NT 6.1; WOW64) AppleWebK...</td>\n",
       "      <td>9</td>\n",
       "      <td>0</td>\n",
       "      <td>1</td>\n",
       "      <td>10</td>\n",
       "      <td>1</td>\n",
       "      <td>2018-10-01 00:06:56</td>\n",
       "      <td>Boston-Cambridge-Newton</td>\n",
       "      <td>MA-NH</td>\n",
       "    </tr>\n",
       "    <tr>\n",
       "      <th>4</th>\n",
       "      <td>Daft Punk</td>\n",
       "      <td>Logged In</td>\n",
       "      <td>Colin</td>\n",
       "      <td>M</td>\n",
       "      <td>52</td>\n",
       "      <td>Freeman</td>\n",
       "      <td>223.60771</td>\n",
       "      <td>paid</td>\n",
       "      <td>Bakersfield, CA</td>\n",
       "      <td>PUT</td>\n",
       "      <td>...</td>\n",
       "      <td>1538352676000</td>\n",
       "      <td>Mozilla/5.0 (Windows NT 6.1; WOW64; rv:31.0) G...</td>\n",
       "      <td>30</td>\n",
       "      <td>0</td>\n",
       "      <td>1</td>\n",
       "      <td>10</td>\n",
       "      <td>1</td>\n",
       "      <td>2018-10-01 00:11:16</td>\n",
       "      <td>Bakersfield</td>\n",
       "      <td>CA</td>\n",
       "    </tr>\n",
       "  </tbody>\n",
       "</table>\n",
       "<p>5 rows × 25 columns</p>\n",
       "</div>"
      ],
      "text/plain": [
       "             artist       auth firstName gender  itemInSession lastName  \\\n",
       "0    Martha Tilston  Logged In     Colin      M             50  Freeman   \n",
       "1  Five Iron Frenzy  Logged In     Micah      M             79     Long   \n",
       "2      Adam Lambert  Logged In     Colin      M             51  Freeman   \n",
       "3            Enigma  Logged In     Micah      M             80     Long   \n",
       "4         Daft Punk  Logged In     Colin      M             52  Freeman   \n",
       "\n",
       "      length level                        location method   ...    \\\n",
       "0  277.89016  paid                 Bakersfield, CA    PUT   ...     \n",
       "1  236.09424  free  Boston-Cambridge-Newton, MA-NH    PUT   ...     \n",
       "2  282.82730  paid                 Bakersfield, CA    PUT   ...     \n",
       "3  262.71302  free  Boston-Cambridge-Newton, MA-NH    PUT   ...     \n",
       "4  223.60771  paid                 Bakersfield, CA    PUT   ...     \n",
       "\n",
       "              ts                                          userAgent  userId  \\\n",
       "0  1538352117000  Mozilla/5.0 (Windows NT 6.1; WOW64; rv:31.0) G...      30   \n",
       "1  1538352180000  \"Mozilla/5.0 (Windows NT 6.1; WOW64) AppleWebK...       9   \n",
       "2  1538352394000  Mozilla/5.0 (Windows NT 6.1; WOW64; rv:31.0) G...      30   \n",
       "3  1538352416000  \"Mozilla/5.0 (Windows NT 6.1; WOW64) AppleWebK...       9   \n",
       "4  1538352676000  Mozilla/5.0 (Windows NT 6.1; WOW64; rv:31.0) G...      30   \n",
       "\n",
       "  hour  day  month week_day                 time                     city  \\\n",
       "0    0    1     10        1  2018-10-01 00:01:57              Bakersfield   \n",
       "1    0    1     10        1  2018-10-01 00:03:00  Boston-Cambridge-Newton   \n",
       "2    0    1     10        1  2018-10-01 00:06:34              Bakersfield   \n",
       "3    0    1     10        1  2018-10-01 00:06:56  Boston-Cambridge-Newton   \n",
       "4    0    1     10        1  2018-10-01 00:11:16              Bakersfield   \n",
       "\n",
       "    state  \n",
       "0      CA  \n",
       "1   MA-NH  \n",
       "2      CA  \n",
       "3   MA-NH  \n",
       "4      CA  \n",
       "\n",
       "[5 rows x 25 columns]"
      ]
     },
     "execution_count": 23,
     "metadata": {},
     "output_type": "execute_result"
    }
   ],
   "source": [
    "#looking to cleaned data frame\n",
    "pd.DataFrame(df_cleaned.take(5), columns=df_cleaned.columns).head(5)"
   ]
  },
  {
   "cell_type": "markdown",
   "metadata": {},
   "source": [
    "#### 1.4 Basic EDA on Cleaned Data Frame"
   ]
  },
  {
   "cell_type": "code",
   "execution_count": 24,
   "metadata": {},
   "outputs": [
    {
     "name": "stdout",
     "output_type": "stream",
     "text": [
      "+---------+-----+\n",
      "|     auth|count|\n",
      "+---------+-----+\n",
      "|Cancelled|   52|\n",
      "|Logged In|  225|\n",
      "+---------+-----+\n",
      "\n"
     ]
    },
    {
     "data": {
      "text/plain": [
       "<matplotlib.axes._subplots.AxesSubplot at 0x7fb384d9bd30>"
      ]
     },
     "execution_count": 24,
     "metadata": {},
     "output_type": "execute_result"
    },
    {
     "data": {
      "image/png": "[encoded data removed]",
      "text/plain": [
       "<matplotlib.figure.Figure at 0x7fb384d89ba8>"
      ]
     },
     "metadata": {
      "needs_background": "light"
     },
     "output_type": "display_data"
    }
   ],
   "source": [
    "#How many users are cancelled their subscription?\n",
    "auth_users=df_cleaned.select(\"auth\",\"userId\").distinct().groupBy(\"auth\").count()\n",
    "auth_users.show()\n",
    "sns.barplot(x='auth',y='count',data=auth_users.toPandas())"
   ]
  },
  {
   "cell_type": "markdown",
   "metadata": {},
   "source": [
    "There are 52 users who cancelled their subscription"
   ]
  },
  {
   "cell_type": "code",
   "execution_count": 25,
   "metadata": {},
   "outputs": [
    {
     "name": "stdout",
     "output_type": "stream",
     "text": [
      "+------+-----+\n",
      "|gender|count|\n",
      "+------+-----+\n",
      "|     F|  104|\n",
      "|     M|  121|\n",
      "+------+-----+\n",
      "\n"
     ]
    },
    {
     "data": {
      "text/plain": [
       "<matplotlib.axes._subplots.AxesSubplot at 0x7fb384c2d9b0>"
      ]
     },
     "execution_count": 25,
     "metadata": {},
     "output_type": "execute_result"
    },
    {
     "data": {
      "image/png": "[encoded data removed]",
      "text/plain": [
       "<matplotlib.figure.Figure at 0x7fb384c2d390>"
      ]
     },
     "metadata": {
      "needs_background": "light"
     },
     "output_type": "display_data"
    }
   ],
   "source": [
    "#Unique gender distribution in data set\n",
    "gender_dist=df_cleaned.select(\"gender\",\"userId\").distinct().groupBy(\"gender\").count()\n",
    "gender_dist.show()\n",
    "sns.barplot(x='gender',y='count',data=gender_dist.toPandas())"
   ]
  },
  {
   "cell_type": "code",
   "execution_count": 26,
   "metadata": {},
   "outputs": [
    {
     "name": "stdout",
     "output_type": "stream",
     "text": [
      "+-------+-----------------+\n",
      "|summary|           length|\n",
      "+-------+-----------------+\n",
      "|  count|           228108|\n",
      "|   mean|249.1171819778458|\n",
      "| stddev|99.23517921058361|\n",
      "|    min|          0.78322|\n",
      "|    max|       3024.66567|\n",
      "+-------+-----------------+\n",
      "\n"
     ]
    },
    {
     "data": {
      "text/plain": [
       "<matplotlib.axes._subplots.AxesSubplot at 0x7fb384d75400>"
      ]
     },
     "execution_count": 26,
     "metadata": {},
     "output_type": "execute_result"
    },
    {
     "data": {
      "image/png": "[encoded data removed]",
      "text/plain": [
       "<matplotlib.figure.Figure at 0x7fb384c4fac8>"
      ]
     },
     "metadata": {
      "needs_background": "light"
     },
     "output_type": "display_data"
    }
   ],
   "source": [
    "#looking to statistical summary and distribution of the length column\n",
    "length_data=df_cleaned.select(\"length\").na.drop() \n",
    "length_data.describe().show()\n",
    "sns.distplot(length_data.toPandas())"
   ]
  },
  {
   "cell_type": "markdown",
   "metadata": {},
   "source": [
    "Event if there are some outliers, the lenght of the data is mainly distributed within 0-500 range. Mean is 249 and standard deviation is 99.2."
   ]
  },
  {
   "cell_type": "code",
   "execution_count": 27,
   "metadata": {},
   "outputs": [
    {
     "name": "stdout",
     "output_type": "stream",
     "text": [
      "+-----+-----+\n",
      "|level|count|\n",
      "+-----+-----+\n",
      "| free|  195|\n",
      "| paid|  165|\n",
      "+-----+-----+\n",
      "\n"
     ]
    }
   ],
   "source": [
    "level_dist=df_cleaned.select(\"level\",\"userId\").distinct().groupBy(\"level\").count()\n",
    "level_dist.show()"
   ]
  },
  {
   "cell_type": "markdown",
   "metadata": {},
   "source": [
    "There are 195 free and 165 paid account in this dataset, it shows that some users have been changed the subscription level during the time duration in dataset. Thus we will evaluate the susbriber final paid level with a new column."
   ]
  },
  {
   "cell_type": "code",
   "execution_count": 28,
   "metadata": {},
   "outputs": [
    {
     "name": "stdout",
     "output_type": "stream",
     "text": [
      "+------------+-----+\n",
      "|latest_level|count|\n",
      "+------------+-----+\n",
      "|        free|   80|\n",
      "|        paid|  145|\n",
      "+------------+-----+\n",
      "\n"
     ]
    },
    {
     "data": {
      "text/html": [
       "<div>\n",
       "<style scoped>\n",
       "    .dataframe tbody tr th:only-of-type {\n",
       "        vertical-align: middle;\n",
       "    }\n",
       "\n",
       "    .dataframe tbody tr th {\n",
       "        vertical-align: top;\n",
       "    }\n",
       "\n",
       "    .dataframe thead th {\n",
       "        text-align: right;\n",
       "    }\n",
       "</style>\n",
       "<table border=\"1\" class=\"dataframe\">\n",
       "  <thead>\n",
       "    <tr style=\"text-align: right;\">\n",
       "      <th></th>\n",
       "      <th>userId</th>\n",
       "      <th>artist</th>\n",
       "      <th>auth</th>\n",
       "      <th>firstName</th>\n",
       "      <th>gender</th>\n",
       "      <th>itemInSession</th>\n",
       "      <th>lastName</th>\n",
       "      <th>length</th>\n",
       "      <th>level</th>\n",
       "      <th>location</th>\n",
       "      <th>...</th>\n",
       "      <th>ts</th>\n",
       "      <th>userAgent</th>\n",
       "      <th>hour</th>\n",
       "      <th>day</th>\n",
       "      <th>month</th>\n",
       "      <th>week_day</th>\n",
       "      <th>time</th>\n",
       "      <th>city</th>\n",
       "      <th>state</th>\n",
       "      <th>latest_level</th>\n",
       "    </tr>\n",
       "  </thead>\n",
       "  <tbody>\n",
       "    <tr>\n",
       "      <th>0</th>\n",
       "      <td>100010</td>\n",
       "      <td>Sleeping With Sirens</td>\n",
       "      <td>Logged In</td>\n",
       "      <td>Darianna</td>\n",
       "      <td>F</td>\n",
       "      <td>0</td>\n",
       "      <td>Carpenter</td>\n",
       "      <td>202.97098</td>\n",
       "      <td>free</td>\n",
       "      <td>Bridgeport-Stamford-Norwalk, CT</td>\n",
       "      <td>...</td>\n",
       "      <td>1539003534000</td>\n",
       "      <td>\"Mozilla/5.0 (iPhone; CPU iPhone OS 7_1_2 like...</td>\n",
       "      <td>12</td>\n",
       "      <td>8</td>\n",
       "      <td>10</td>\n",
       "      <td>1</td>\n",
       "      <td>2018-10-08 12:58:54</td>\n",
       "      <td>Bridgeport-Stamford-Norwalk</td>\n",
       "      <td>CT</td>\n",
       "      <td>free</td>\n",
       "    </tr>\n",
       "    <tr>\n",
       "      <th>1</th>\n",
       "      <td>100010</td>\n",
       "      <td>Francesca Battistelli</td>\n",
       "      <td>Logged In</td>\n",
       "      <td>Darianna</td>\n",
       "      <td>F</td>\n",
       "      <td>1</td>\n",
       "      <td>Carpenter</td>\n",
       "      <td>196.54485</td>\n",
       "      <td>free</td>\n",
       "      <td>Bridgeport-Stamford-Norwalk, CT</td>\n",
       "      <td>...</td>\n",
       "      <td>1539003736000</td>\n",
       "      <td>\"Mozilla/5.0 (iPhone; CPU iPhone OS 7_1_2 like...</td>\n",
       "      <td>13</td>\n",
       "      <td>8</td>\n",
       "      <td>10</td>\n",
       "      <td>1</td>\n",
       "      <td>2018-10-08 13:02:16</td>\n",
       "      <td>Bridgeport-Stamford-Norwalk</td>\n",
       "      <td>CT</td>\n",
       "      <td>free</td>\n",
       "    </tr>\n",
       "    <tr>\n",
       "      <th>2</th>\n",
       "      <td>100010</td>\n",
       "      <td>Brutha</td>\n",
       "      <td>Logged In</td>\n",
       "      <td>Darianna</td>\n",
       "      <td>F</td>\n",
       "      <td>2</td>\n",
       "      <td>Carpenter</td>\n",
       "      <td>263.13098</td>\n",
       "      <td>free</td>\n",
       "      <td>Bridgeport-Stamford-Norwalk, CT</td>\n",
       "      <td>...</td>\n",
       "      <td>1539003932000</td>\n",
       "      <td>\"Mozilla/5.0 (iPhone; CPU iPhone OS 7_1_2 like...</td>\n",
       "      <td>13</td>\n",
       "      <td>8</td>\n",
       "      <td>10</td>\n",
       "      <td>1</td>\n",
       "      <td>2018-10-08 13:05:32</td>\n",
       "      <td>Bridgeport-Stamford-Norwalk</td>\n",
       "      <td>CT</td>\n",
       "      <td>free</td>\n",
       "    </tr>\n",
       "    <tr>\n",
       "      <th>3</th>\n",
       "      <td>100010</td>\n",
       "      <td>None</td>\n",
       "      <td>Logged In</td>\n",
       "      <td>Darianna</td>\n",
       "      <td>F</td>\n",
       "      <td>3</td>\n",
       "      <td>Carpenter</td>\n",
       "      <td>NaN</td>\n",
       "      <td>free</td>\n",
       "      <td>Bridgeport-Stamford-Norwalk, CT</td>\n",
       "      <td>...</td>\n",
       "      <td>1539003933000</td>\n",
       "      <td>\"Mozilla/5.0 (iPhone; CPU iPhone OS 7_1_2 like...</td>\n",
       "      <td>13</td>\n",
       "      <td>8</td>\n",
       "      <td>10</td>\n",
       "      <td>1</td>\n",
       "      <td>2018-10-08 13:05:33</td>\n",
       "      <td>Bridgeport-Stamford-Norwalk</td>\n",
       "      <td>CT</td>\n",
       "      <td>free</td>\n",
       "    </tr>\n",
       "    <tr>\n",
       "      <th>4</th>\n",
       "      <td>100010</td>\n",
       "      <td>Josh Ritter</td>\n",
       "      <td>Logged In</td>\n",
       "      <td>Darianna</td>\n",
       "      <td>F</td>\n",
       "      <td>4</td>\n",
       "      <td>Carpenter</td>\n",
       "      <td>316.23791</td>\n",
       "      <td>free</td>\n",
       "      <td>Bridgeport-Stamford-Norwalk, CT</td>\n",
       "      <td>...</td>\n",
       "      <td>1539004195000</td>\n",
       "      <td>\"Mozilla/5.0 (iPhone; CPU iPhone OS 7_1_2 like...</td>\n",
       "      <td>13</td>\n",
       "      <td>8</td>\n",
       "      <td>10</td>\n",
       "      <td>1</td>\n",
       "      <td>2018-10-08 13:09:55</td>\n",
       "      <td>Bridgeport-Stamford-Norwalk</td>\n",
       "      <td>CT</td>\n",
       "      <td>free</td>\n",
       "    </tr>\n",
       "  </tbody>\n",
       "</table>\n",
       "<p>5 rows × 26 columns</p>\n",
       "</div>"
      ],
      "text/plain": [
       "   userId                 artist       auth firstName gender  itemInSession  \\\n",
       "0  100010   Sleeping With Sirens  Logged In  Darianna      F              0   \n",
       "1  100010  Francesca Battistelli  Logged In  Darianna      F              1   \n",
       "2  100010                 Brutha  Logged In  Darianna      F              2   \n",
       "3  100010                   None  Logged In  Darianna      F              3   \n",
       "4  100010            Josh Ritter  Logged In  Darianna      F              4   \n",
       "\n",
       "    lastName     length level                         location     ...       \\\n",
       "0  Carpenter  202.97098  free  Bridgeport-Stamford-Norwalk, CT     ...        \n",
       "1  Carpenter  196.54485  free  Bridgeport-Stamford-Norwalk, CT     ...        \n",
       "2  Carpenter  263.13098  free  Bridgeport-Stamford-Norwalk, CT     ...        \n",
       "3  Carpenter        NaN  free  Bridgeport-Stamford-Norwalk, CT     ...        \n",
       "4  Carpenter  316.23791  free  Bridgeport-Stamford-Norwalk, CT     ...        \n",
       "\n",
       "              ts                                          userAgent  hour  \\\n",
       "0  1539003534000  \"Mozilla/5.0 (iPhone; CPU iPhone OS 7_1_2 like...    12   \n",
       "1  1539003736000  \"Mozilla/5.0 (iPhone; CPU iPhone OS 7_1_2 like...    13   \n",
       "2  1539003932000  \"Mozilla/5.0 (iPhone; CPU iPhone OS 7_1_2 like...    13   \n",
       "3  1539003933000  \"Mozilla/5.0 (iPhone; CPU iPhone OS 7_1_2 like...    13   \n",
       "4  1539004195000  \"Mozilla/5.0 (iPhone; CPU iPhone OS 7_1_2 like...    13   \n",
       "\n",
       "   day month  week_day                 time                         city  \\\n",
       "0    8    10         1  2018-10-08 12:58:54  Bridgeport-Stamford-Norwalk   \n",
       "1    8    10         1  2018-10-08 13:02:16  Bridgeport-Stamford-Norwalk   \n",
       "2    8    10         1  2018-10-08 13:05:32  Bridgeport-Stamford-Norwalk   \n",
       "3    8    10         1  2018-10-08 13:05:33  Bridgeport-Stamford-Norwalk   \n",
       "4    8    10         1  2018-10-08 13:09:55  Bridgeport-Stamford-Norwalk   \n",
       "\n",
       "  state latest_level  \n",
       "0    CT         free  \n",
       "1    CT         free  \n",
       "2    CT         free  \n",
       "3    CT         free  \n",
       "4    CT         free  \n",
       "\n",
       "[5 rows x 26 columns]"
      ]
     },
     "execution_count": 28,
     "metadata": {},
     "output_type": "execute_result"
    }
   ],
   "source": [
    "#Finding the users' last level and assignin as a new column as \"latest_level\" \n",
    "df_temp=df_cleaned.orderBy('ts', ascending=False).groupBy('userId').agg(first('level').alias('latest_level'))\n",
    "df_temp.groupBy(\"latest_level\").count().show()\n",
    "df_cleaned = df_cleaned.join(df_temp, on='userId')\n",
    "\n",
    "pd.DataFrame(df_cleaned.take(5), columns=df_cleaned.columns).head(5)"
   ]
  },
  {
   "cell_type": "code",
   "execution_count": 29,
   "metadata": {},
   "outputs": [
    {
     "name": "stdout",
     "output_type": "stream",
     "text": [
      "+--------------------+-----+\n",
      "|                city|count|\n",
      "+--------------------+-----+\n",
      "|Los Angeles-Long ...|   16|\n",
      "|New York-Newark-J...|   15|\n",
      "|Phoenix-Mesa-Scot...|    7|\n",
      "|Dallas-Fort Worth...|    7|\n",
      "|           St. Louis|    6|\n",
      "+--------------------+-----+\n",
      "only showing top 5 rows\n",
      "\n",
      "+---------+-----+\n",
      "|    state|count|\n",
      "+---------+-----+\n",
      "|       CA|   33|\n",
      "|       TX|   16|\n",
      "| NY-NJ-PA|   15|\n",
      "|       FL|   14|\n",
      "|       AZ|    7|\n",
      "+---------+-----+\n",
      "only showing top 5 rows\n",
      "\n"
     ]
    }
   ],
   "source": [
    "#Check the city and state distribution of users in dataset\n",
    "city_dist=df_cleaned.select(\"city\",\"userId\").distinct().groupBy(\"city\").count().orderBy(desc(\"count\"))\n",
    "state_dist=df_cleaned.select(\"state\",\"userId\").distinct().groupBy(\"state\").count().orderBy(desc(\"count\"))\n",
    "city_dist.show(5)\n",
    "state_dist.show(5)"
   ]
  },
  {
   "cell_type": "code",
   "execution_count": 30,
   "metadata": {},
   "outputs": [
    {
     "data": {
      "image/png": "[encoded data removed]",
      "text/plain": [
       "<matplotlib.figure.Figure at 0x7fb384cf8c88>"
      ]
     },
     "metadata": {
      "needs_background": "light"
     },
     "output_type": "display_data"
    }
   ],
   "source": [
    "plt.figure(figsize=(12,8))\n",
    "ax=sns.barplot(x='city',y='count',data=city_dist.toPandas());\n",
    "ax.axes.set_title(\"User distribution per city\",fontsize=12)\n",
    "ax.set_xlabel(\"city\",fontsize=8)\n",
    "ax.set_ylabel(\"# of Users\",fontsize=8)\n",
    "plt.xticks(rotation=90)\n",
    "plt.tight_layout()\n",
    "plt.tick_params(labelsize=7)"
   ]
  },
  {
   "cell_type": "code",
   "execution_count": 31,
   "metadata": {},
   "outputs": [
    {
     "data": {
      "image/png": "[encoded data removed]",
      "text/plain": [
       "<matplotlib.figure.Figure at 0x7fb3842e3be0>"
      ]
     },
     "metadata": {
      "needs_background": "light"
     },
     "output_type": "display_data"
    }
   ],
   "source": [
    "plt.figure(figsize=(10,6))\n",
    "ax=sns.barplot(x='state',y='count',data=state_dist.toPandas());\n",
    "ax.axes.set_title(\"User distribution per state\",fontsize=12)\n",
    "ax.set_xlabel(\"state\",fontsize=8)\n",
    "ax.set_ylabel(\"# of Users\",fontsize=8)\n",
    "plt.xticks(rotation=90)\n",
    "plt.tight_layout()"
   ]
  },
  {
   "cell_type": "markdown",
   "metadata": {},
   "source": [
    "Los Angeles and New York are top cities which have the largest user count, and California is the top state has the largest user count."
   ]
  },
  {
   "cell_type": "code",
   "execution_count": 32,
   "metadata": {},
   "outputs": [
    {
     "name": "stdout",
     "output_type": "stream",
     "text": [
      "+--------------------+------+\n",
      "|                page| count|\n",
      "+--------------------+------+\n",
      "|            NextSong|228108|\n",
      "|           Thumbs Up| 12551|\n",
      "|                Home| 10082|\n",
      "|     Add to Playlist|  6526|\n",
      "|          Add Friend|  4277|\n",
      "|         Roll Advert|  3933|\n",
      "|              Logout|  3226|\n",
      "|         Thumbs Down|  2546|\n",
      "|           Downgrade|  2055|\n",
      "|            Settings|  1514|\n",
      "|                Help|  1454|\n",
      "|             Upgrade|   499|\n",
      "|               About|   495|\n",
      "|       Save Settings|   310|\n",
      "|               Error|   252|\n",
      "|      Submit Upgrade|   159|\n",
      "|    Submit Downgrade|    63|\n",
      "|              Cancel|    52|\n",
      "|Cancellation Conf...|    52|\n",
      "+--------------------+------+\n",
      "\n"
     ]
    }
   ],
   "source": [
    "#Check the page distribution in dataset\n",
    "page_dist=df_cleaned.select(\"page\",\"userId\").groupBy(\"page\").count().orderBy(desc(\"count\"))\n",
    "page_dist.show()"
   ]
  },
  {
   "cell_type": "code",
   "execution_count": 33,
   "metadata": {},
   "outputs": [
    {
     "data": {
      "image/png": "[encoded data removed]",
      "text/plain": [
       "<matplotlib.figure.Figure at 0x7fb37cdf0390>"
      ]
     },
     "metadata": {
      "needs_background": "light"
     },
     "output_type": "display_data"
    }
   ],
   "source": [
    "plt.figure(figsize=(8,6))\n",
    "ax=sns.barplot(x='page',y='count',data=page_dist.toPandas());\n",
    "ax.axes.set_title(\"page distribution\",fontsize=12)\n",
    "ax.set_xlabel(\"page\",fontsize=8)\n",
    "ax.set_ylabel(\"# of users\",fontsize=8)\n",
    "plt.xticks(rotation=90)\n",
    "plt.tight_layout()"
   ]
  },
  {
   "cell_type": "code",
   "execution_count": 34,
   "metadata": {},
   "outputs": [
    {
     "data": {
      "text/plain": [
       "[Row(userAgent='\"Mozilla/5.0 (Windows NT 6.1; WOW64) AppleWebKit/537.36 (KHTML, like Gecko) Chrome/36.0.1985.143 Safari/537.36\"', count=24),\n",
       " Row(userAgent='Mozilla/5.0 (Windows NT 6.1; WOW64; rv:31.0) Gecko/20100101 Firefox/31.0', count=18),\n",
       " Row(userAgent='\"Mozilla/5.0 (Macintosh; Intel Mac OS X 10_9_4) AppleWebKit/537.36 (KHTML, like Gecko) Chrome/36.0.1985.125 Safari/537.36\"', count=16),\n",
       " Row(userAgent='\"Mozilla/5.0 (Macintosh; Intel Mac OS X 10_9_4) AppleWebKit/537.77.4 (KHTML, like Gecko) Version/7.0.5 Safari/537.77.4\"', count=12),\n",
       " Row(userAgent='\"Mozilla/5.0 (Macintosh; Intel Mac OS X 10_9_4) AppleWebKit/537.36 (KHTML, like Gecko) Chrome/36.0.1985.143 Safari/537.36\"', count=12)]"
      ]
     },
     "execution_count": 34,
     "metadata": {},
     "output_type": "execute_result"
    }
   ],
   "source": [
    "#User Agent Distribution\n",
    "useragent_dist=df_cleaned.select(\"userAgent\",\"userId\").distinct().groupBy(\"userAgent\").count().orderBy(desc(\"count\"))\n",
    "useragent_dist.take(5)"
   ]
  },
  {
   "cell_type": "code",
   "execution_count": 35,
   "metadata": {},
   "outputs": [],
   "source": [
    "#Reference for checking: https://developers.whatismybrowser.com/useragents/parse/\n",
    "\n",
    "#Basic grouping type of browser based on the UserAgent value\n",
    "def get_browser(x):\n",
    "    if 'Firefox' in x:\n",
    "        return 'Firefox'\n",
    "    elif 'Safari' in x:\n",
    "        if 'Chrome' in x:\n",
    "            return 'Chrome'\n",
    "        else:\n",
    "            return 'Safari'\n",
    "    elif 'Trident' in x:\n",
    "        return 'IE'\n",
    "    else:\n",
    "        return np.NaN"
   ]
  },
  {
   "cell_type": "code",
   "execution_count": 36,
   "metadata": {},
   "outputs": [],
   "source": [
    "# Definig user functions to extract browser information\n",
    "browser = udf(lambda x : get_browser(x))\n",
    "df_cleaned=df_cleaned.withColumn(\"browser\",browser(df_cleaned.userAgent))"
   ]
  },
  {
   "cell_type": "code",
   "execution_count": 37,
   "metadata": {},
   "outputs": [
    {
     "data": {
      "text/html": [
       "<div>\n",
       "<style scoped>\n",
       "    .dataframe tbody tr th:only-of-type {\n",
       "        vertical-align: middle;\n",
       "    }\n",
       "\n",
       "    .dataframe tbody tr th {\n",
       "        vertical-align: top;\n",
       "    }\n",
       "\n",
       "    .dataframe thead th {\n",
       "        text-align: right;\n",
       "    }\n",
       "</style>\n",
       "<table border=\"1\" class=\"dataframe\">\n",
       "  <thead>\n",
       "    <tr style=\"text-align: right;\">\n",
       "      <th></th>\n",
       "      <th>userId</th>\n",
       "    </tr>\n",
       "    <tr>\n",
       "      <th>browser</th>\n",
       "      <th></th>\n",
       "    </tr>\n",
       "  </thead>\n",
       "  <tbody>\n",
       "    <tr>\n",
       "      <th>IE</th>\n",
       "      <td>15347</td>\n",
       "    </tr>\n",
       "    <tr>\n",
       "      <th>Firefox</th>\n",
       "      <td>55646</td>\n",
       "    </tr>\n",
       "    <tr>\n",
       "      <th>Safari</th>\n",
       "      <td>61570</td>\n",
       "    </tr>\n",
       "    <tr>\n",
       "      <th>Chrome</th>\n",
       "      <td>145591</td>\n",
       "    </tr>\n",
       "  </tbody>\n",
       "</table>\n",
       "</div>"
      ],
      "text/plain": [
       "         userId\n",
       "browser        \n",
       "IE        15347\n",
       "Firefox   55646\n",
       "Safari    61570\n",
       "Chrome   145591"
      ]
     },
     "execution_count": 37,
     "metadata": {},
     "output_type": "execute_result"
    }
   ],
   "source": [
    "#Browser distribution\n",
    "useragent_dist=df_cleaned.select([\"userId\",\"browser\"]).toPandas()  # change to pandas dataframe\n",
    "useragent_dist.groupby('browser').count().sort_values(\"userId\")"
   ]
  },
  {
   "cell_type": "code",
   "execution_count": 38,
   "metadata": {},
   "outputs": [
    {
     "data": {
      "image/png": "[encoded data removed]",
      "text/plain": [
       "<matplotlib.figure.Figure at 0x7fb37cc51048>"
      ]
     },
     "metadata": {
      "needs_background": "light"
     },
     "output_type": "display_data"
    }
   ],
   "source": [
    "x_temp=useragent_dist.groupby('browser').count()\n",
    "plt.bar(x_temp.index.values, x_temp[\"userId\"], color=['C0', 'C1', 'C2', 'C3'])\n",
    "plt.show()"
   ]
  },
  {
   "cell_type": "markdown",
   "metadata": {},
   "source": [
    "The chrome browser is dominantly used within users."
   ]
  },
  {
   "cell_type": "code",
   "execution_count": 39,
   "metadata": {},
   "outputs": [
    {
     "data": {
      "text/html": [
       "<div>\n",
       "<style scoped>\n",
       "    .dataframe tbody tr th:only-of-type {\n",
       "        vertical-align: middle;\n",
       "    }\n",
       "\n",
       "    .dataframe tbody tr th {\n",
       "        vertical-align: top;\n",
       "    }\n",
       "\n",
       "    .dataframe thead th {\n",
       "        text-align: right;\n",
       "    }\n",
       "</style>\n",
       "<table border=\"1\" class=\"dataframe\">\n",
       "  <thead>\n",
       "    <tr style=\"text-align: right;\">\n",
       "      <th></th>\n",
       "      <th>userId</th>\n",
       "      <th>time</th>\n",
       "      <th>day</th>\n",
       "      <th>hour</th>\n",
       "      <th>week_day</th>\n",
       "    </tr>\n",
       "  </thead>\n",
       "  <tbody>\n",
       "    <tr>\n",
       "      <th>0</th>\n",
       "      <td>100010</td>\n",
       "      <td>2018-10-08 12:58:54</td>\n",
       "      <td>8</td>\n",
       "      <td>12</td>\n",
       "      <td>1</td>\n",
       "    </tr>\n",
       "    <tr>\n",
       "      <th>1</th>\n",
       "      <td>100010</td>\n",
       "      <td>2018-10-08 13:02:16</td>\n",
       "      <td>8</td>\n",
       "      <td>13</td>\n",
       "      <td>1</td>\n",
       "    </tr>\n",
       "    <tr>\n",
       "      <th>2</th>\n",
       "      <td>100010</td>\n",
       "      <td>2018-10-08 13:05:32</td>\n",
       "      <td>8</td>\n",
       "      <td>13</td>\n",
       "      <td>1</td>\n",
       "    </tr>\n",
       "    <tr>\n",
       "      <th>3</th>\n",
       "      <td>100010</td>\n",
       "      <td>2018-10-08 13:05:33</td>\n",
       "      <td>8</td>\n",
       "      <td>13</td>\n",
       "      <td>1</td>\n",
       "    </tr>\n",
       "    <tr>\n",
       "      <th>4</th>\n",
       "      <td>100010</td>\n",
       "      <td>2018-10-08 13:09:55</td>\n",
       "      <td>8</td>\n",
       "      <td>13</td>\n",
       "      <td>1</td>\n",
       "    </tr>\n",
       "  </tbody>\n",
       "</table>\n",
       "</div>"
      ],
      "text/plain": [
       "   userId                 time day hour week_day\n",
       "0  100010  2018-10-08 12:58:54   8   12        1\n",
       "1  100010  2018-10-08 13:02:16   8   13        1\n",
       "2  100010  2018-10-08 13:05:32   8   13        1\n",
       "3  100010  2018-10-08 13:05:33   8   13        1\n",
       "4  100010  2018-10-08 13:09:55   8   13        1"
      ]
     },
     "execution_count": 39,
     "metadata": {},
     "output_type": "execute_result"
    }
   ],
   "source": [
    "#Using only time related columns by creasing a new data frame\n",
    "time_data=df_cleaned.select(\"userId\",\"time\",\"day\",\"hour\",\"week_day\").toPandas()\n",
    "time_data.head()"
   ]
  },
  {
   "cell_type": "code",
   "execution_count": 40,
   "metadata": {},
   "outputs": [
    {
     "data": {
      "text/plain": [
       "userId      object\n",
       "time        object\n",
       "day         object\n",
       "hour        object\n",
       "week_day    object\n",
       "dtype: object"
      ]
     },
     "execution_count": 40,
     "metadata": {},
     "output_type": "execute_result"
    }
   ],
   "source": [
    "time_data.dtypes"
   ]
  },
  {
   "cell_type": "code",
   "execution_count": 41,
   "metadata": {},
   "outputs": [],
   "source": [
    "#Converting time to date dtype\n",
    "time_data['time'] = pd.to_datetime(time_data['time'])"
   ]
  },
  {
   "cell_type": "code",
   "execution_count": 42,
   "metadata": {},
   "outputs": [],
   "source": [
    "#create weekday name \n",
    "#Ref: https://stackoverflow.com/a/29096827/13076699\n",
    "time_data['week_day_name']=time_data['time'].dt.day_name()"
   ]
  },
  {
   "cell_type": "code",
   "execution_count": 43,
   "metadata": {},
   "outputs": [
    {
     "data": {
      "text/html": [
       "<div>\n",
       "<style scoped>\n",
       "    .dataframe tbody tr th:only-of-type {\n",
       "        vertical-align: middle;\n",
       "    }\n",
       "\n",
       "    .dataframe tbody tr th {\n",
       "        vertical-align: top;\n",
       "    }\n",
       "\n",
       "    .dataframe thead th {\n",
       "        text-align: right;\n",
       "    }\n",
       "</style>\n",
       "<table border=\"1\" class=\"dataframe\">\n",
       "  <thead>\n",
       "    <tr style=\"text-align: right;\">\n",
       "      <th></th>\n",
       "      <th>userId</th>\n",
       "      <th>time</th>\n",
       "      <th>day</th>\n",
       "      <th>hour</th>\n",
       "      <th>week_day</th>\n",
       "      <th>week_day_name</th>\n",
       "    </tr>\n",
       "  </thead>\n",
       "  <tbody>\n",
       "    <tr>\n",
       "      <th>0</th>\n",
       "      <td>100010</td>\n",
       "      <td>2018-10-08 12:58:54</td>\n",
       "      <td>8</td>\n",
       "      <td>12</td>\n",
       "      <td>1</td>\n",
       "      <td>Monday</td>\n",
       "    </tr>\n",
       "    <tr>\n",
       "      <th>1</th>\n",
       "      <td>100010</td>\n",
       "      <td>2018-10-08 13:02:16</td>\n",
       "      <td>8</td>\n",
       "      <td>13</td>\n",
       "      <td>1</td>\n",
       "      <td>Monday</td>\n",
       "    </tr>\n",
       "    <tr>\n",
       "      <th>2</th>\n",
       "      <td>100010</td>\n",
       "      <td>2018-10-08 13:05:32</td>\n",
       "      <td>8</td>\n",
       "      <td>13</td>\n",
       "      <td>1</td>\n",
       "      <td>Monday</td>\n",
       "    </tr>\n",
       "    <tr>\n",
       "      <th>3</th>\n",
       "      <td>100010</td>\n",
       "      <td>2018-10-08 13:05:33</td>\n",
       "      <td>8</td>\n",
       "      <td>13</td>\n",
       "      <td>1</td>\n",
       "      <td>Monday</td>\n",
       "    </tr>\n",
       "    <tr>\n",
       "      <th>4</th>\n",
       "      <td>100010</td>\n",
       "      <td>2018-10-08 13:09:55</td>\n",
       "      <td>8</td>\n",
       "      <td>13</td>\n",
       "      <td>1</td>\n",
       "      <td>Monday</td>\n",
       "    </tr>\n",
       "  </tbody>\n",
       "</table>\n",
       "</div>"
      ],
      "text/plain": [
       "   userId                time day hour week_day week_day_name\n",
       "0  100010 2018-10-08 12:58:54   8   12        1        Monday\n",
       "1  100010 2018-10-08 13:02:16   8   13        1        Monday\n",
       "2  100010 2018-10-08 13:05:32   8   13        1        Monday\n",
       "3  100010 2018-10-08 13:05:33   8   13        1        Monday\n",
       "4  100010 2018-10-08 13:09:55   8   13        1        Monday"
      ]
     },
     "execution_count": 43,
     "metadata": {},
     "output_type": "execute_result"
    }
   ],
   "source": [
    "time_data.head()"
   ]
  },
  {
   "cell_type": "code",
   "execution_count": 44,
   "metadata": {},
   "outputs": [
    {
     "data": {
      "image/png": "[encoded data removed]",
      "text/plain": [
       "<matplotlib.figure.Figure at 0x7fb37ab75550>"
      ]
     },
     "metadata": {
      "needs_background": "light"
     },
     "output_type": "display_data"
    }
   ],
   "source": [
    "#Checking the daily cycle distribution in a week\n",
    "week_data=time_data.groupby(\"week_day_name\",sort=False)['userId'].count().reset_index()\n",
    "\n",
    "plt.figure(figsize=(8,4))\n",
    "ax=sns.barplot(x='week_day_name',y='userId',data=week_data,color=\"c\");\n",
    "ax.axes.set_title(\"Week Days User Activity\",fontsize=12)\n",
    "ax.set_xlabel(\"week day name\",fontsize=10)\n",
    "ax.set_ylabel(\"# of users\",fontsize=10)\n",
    "plt.tight_layout()"
   ]
  },
  {
   "cell_type": "markdown",
   "metadata": {},
   "source": [
    "We may say that users are using the app more offten in workdays than weekend"
   ]
  },
  {
   "cell_type": "code",
   "execution_count": 45,
   "metadata": {},
   "outputs": [
    {
     "data": {
      "image/png": "[encoded data removed]",
      "text/plain": [
       "<matplotlib.figure.Figure at 0x7fb37cdecdd8>"
      ]
     },
     "metadata": {
      "needs_background": "light"
     },
     "output_type": "display_data"
    }
   ],
   "source": [
    "#Checking hourly cycle in a day\n",
    "time_data['hour']=time_data['hour'].astype(int)\n",
    "data_hour=time_data.groupby(\"hour\")['userId'].count().reset_index()\n",
    "\n",
    "plt.figure(figsize=(8,4))\n",
    "ax=sns.barplot(x='hour',y='userId',data=data_hour,color=\"c\");\n",
    "ax.axes.set_title(\"Hourly Cycle User Activity\",fontsize=12)\n",
    "ax.set_xlabel(\"Hours of Day\",fontsize=10)\n",
    "ax.set_ylabel(\"# of users\",fontsize=10)\n",
    "plt.tight_layout()"
   ]
  },
  {
   "cell_type": "markdown",
   "metadata": {},
   "source": [
    "In one single day, the users use sparkify more often after 14 o'clock."
   ]
  },
  {
   "cell_type": "code",
   "execution_count": 46,
   "metadata": {},
   "outputs": [
    {
     "data": {
      "image/png": "[encoded data removed]",
      "text/plain": [
       "<matplotlib.figure.Figure at 0x7fb373ec2080>"
      ]
     },
     "metadata": {
      "needs_background": "light"
     },
     "output_type": "display_data"
    }
   ],
   "source": [
    "#Checking daily activity in a month\n",
    "time_data['day']=time_data['day'].astype(int)\n",
    "data_day=time_data.groupby(\"day\")['userId'].count().reset_index()\n",
    "\n",
    "plt.figure(figsize=(8,4))\n",
    "ax=sns.barplot(x='day',y='userId',data=data_day,color=\"c\");\n",
    "ax.axes.set_title(\"Monthly Cycle User Activity\",fontsize=12)\n",
    "ax.set_xlabel(\"Days of Month\",fontsize=10)\n",
    "ax.set_ylabel(\"# of users\",fontsize=10)\n",
    "plt.tight_layout()"
   ]
  },
  {
   "cell_type": "markdown",
   "metadata": {},
   "source": [
    "There is no spesific acitivy that we may draw from in a monthly manner"
   ]
  },
  {
   "cell_type": "markdown",
   "metadata": {},
   "source": [
    "\n",
    "### Define Churn\n",
    "\n",
    "Once you've done some preliminary analysis, create a column `Churn` to use as the label for your model. I suggest using the `Cancellation Confirmation` events to define your churn, which happen for both paid and free users. As a bonus task, you can also look into the `Downgrade` events.\n",
    "\n",
    "### Explore Data\n",
    "Once you've defined churn, perform some exploratory data analysis to observe the behavior for users who stayed vs users who churned. You can start by exploring aggregates on these two groups of users, observing how much of a specific action they experienced per a certain time unit or number of songs played."
   ]
  },
  {
   "cell_type": "code",
   "execution_count": 47,
   "metadata": {},
   "outputs": [
    {
     "name": "stdout",
     "output_type": "stream",
     "text": [
      "+-------------------------+\n",
      "|page                     |\n",
      "+-------------------------+\n",
      "|Cancel                   |\n",
      "|Submit Downgrade         |\n",
      "|Thumbs Down              |\n",
      "|Home                     |\n",
      "|Downgrade                |\n",
      "|Roll Advert              |\n",
      "|Logout                   |\n",
      "|Save Settings            |\n",
      "|Cancellation Confirmation|\n",
      "|About                    |\n",
      "|Settings                 |\n",
      "|Add to Playlist          |\n",
      "|Add Friend               |\n",
      "|NextSong                 |\n",
      "|Thumbs Up                |\n",
      "|Help                     |\n",
      "|Upgrade                  |\n",
      "|Error                    |\n",
      "|Submit Upgrade           |\n",
      "+-------------------------+\n",
      "\n"
     ]
    }
   ],
   "source": [
    "#We will define a column named Churn as dataset's label for predict\n",
    "#the cancellation info is provided under the page columns\n",
    "df_cleaned.select('page').distinct().show(truncate=False)"
   ]
  },
  {
   "cell_type": "code",
   "execution_count": 48,
   "metadata": {},
   "outputs": [],
   "source": [
    "# Defining a udf function for labeling churn with  to transform event to 0 or 1\n",
    "flag_churn_event = udf(lambda x : 1 if x=='Cancellation Confirmation' else 0, IntegerType())"
   ]
  },
  {
   "cell_type": "code",
   "execution_count": 49,
   "metadata": {},
   "outputs": [],
   "source": [
    "#define the current churn or not state\n",
    "df_cleaned = df_cleaned.withColumn('churn_state',flag_churn_event('page'))"
   ]
  },
  {
   "cell_type": "code",
   "execution_count": 50,
   "metadata": {},
   "outputs": [],
   "source": [
    "#Define window range through the window function\n",
    "windowval = Window.partitionBy(\"userId\").orderBy(desc(\"ts\")).rangeBetween(Window.unboundedPreceding, 0)"
   ]
  },
  {
   "cell_type": "code",
   "execution_count": 51,
   "metadata": {},
   "outputs": [],
   "source": [
    "#mark the user who have churned event\n",
    "df_cleaned = df_cleaned.withColumn(\"churn\", Fsum(\"churn_state\").over(windowval))"
   ]
  },
  {
   "cell_type": "code",
   "execution_count": 52,
   "metadata": {},
   "outputs": [
    {
     "data": {
      "text/html": [
       "<div>\n",
       "<style scoped>\n",
       "    .dataframe tbody tr th:only-of-type {\n",
       "        vertical-align: middle;\n",
       "    }\n",
       "\n",
       "    .dataframe tbody tr th {\n",
       "        vertical-align: top;\n",
       "    }\n",
       "\n",
       "    .dataframe thead th {\n",
       "        text-align: right;\n",
       "    }\n",
       "</style>\n",
       "<table border=\"1\" class=\"dataframe\">\n",
       "  <thead>\n",
       "    <tr style=\"text-align: right;\">\n",
       "      <th></th>\n",
       "      <th>userId</th>\n",
       "      <th>artist</th>\n",
       "      <th>auth</th>\n",
       "      <th>firstName</th>\n",
       "      <th>gender</th>\n",
       "      <th>itemInSession</th>\n",
       "      <th>lastName</th>\n",
       "      <th>length</th>\n",
       "      <th>level</th>\n",
       "      <th>location</th>\n",
       "      <th>...</th>\n",
       "      <th>day</th>\n",
       "      <th>month</th>\n",
       "      <th>week_day</th>\n",
       "      <th>time</th>\n",
       "      <th>city</th>\n",
       "      <th>state</th>\n",
       "      <th>latest_level</th>\n",
       "      <th>browser</th>\n",
       "      <th>churn_state</th>\n",
       "      <th>churn</th>\n",
       "    </tr>\n",
       "  </thead>\n",
       "  <tbody>\n",
       "    <tr>\n",
       "      <th>0</th>\n",
       "      <td>100010</td>\n",
       "      <td>None</td>\n",
       "      <td>Logged In</td>\n",
       "      <td>Darianna</td>\n",
       "      <td>F</td>\n",
       "      <td>34</td>\n",
       "      <td>Carpenter</td>\n",
       "      <td>NaN</td>\n",
       "      <td>free</td>\n",
       "      <td>Bridgeport-Stamford-Norwalk, CT</td>\n",
       "      <td>...</td>\n",
       "      <td>21</td>\n",
       "      <td>11</td>\n",
       "      <td>3</td>\n",
       "      <td>2018-11-21 18:12:32</td>\n",
       "      <td>Bridgeport-Stamford-Norwalk</td>\n",
       "      <td>CT</td>\n",
       "      <td>free</td>\n",
       "      <td>Safari</td>\n",
       "      <td>0</td>\n",
       "      <td>0</td>\n",
       "    </tr>\n",
       "    <tr>\n",
       "      <th>1</th>\n",
       "      <td>100010</td>\n",
       "      <td>Lily Allen</td>\n",
       "      <td>Logged In</td>\n",
       "      <td>Darianna</td>\n",
       "      <td>F</td>\n",
       "      <td>33</td>\n",
       "      <td>Carpenter</td>\n",
       "      <td>185.25995</td>\n",
       "      <td>free</td>\n",
       "      <td>Bridgeport-Stamford-Norwalk, CT</td>\n",
       "      <td>...</td>\n",
       "      <td>21</td>\n",
       "      <td>11</td>\n",
       "      <td>3</td>\n",
       "      <td>2018-11-21 18:12:31</td>\n",
       "      <td>Bridgeport-Stamford-Norwalk</td>\n",
       "      <td>CT</td>\n",
       "      <td>free</td>\n",
       "      <td>Safari</td>\n",
       "      <td>0</td>\n",
       "      <td>0</td>\n",
       "    </tr>\n",
       "    <tr>\n",
       "      <th>2</th>\n",
       "      <td>100010</td>\n",
       "      <td>John Waite</td>\n",
       "      <td>Logged In</td>\n",
       "      <td>Darianna</td>\n",
       "      <td>F</td>\n",
       "      <td>32</td>\n",
       "      <td>Carpenter</td>\n",
       "      <td>269.76608</td>\n",
       "      <td>free</td>\n",
       "      <td>Bridgeport-Stamford-Norwalk, CT</td>\n",
       "      <td>...</td>\n",
       "      <td>21</td>\n",
       "      <td>11</td>\n",
       "      <td>3</td>\n",
       "      <td>2018-11-21 18:08:02</td>\n",
       "      <td>Bridgeport-Stamford-Norwalk</td>\n",
       "      <td>CT</td>\n",
       "      <td>free</td>\n",
       "      <td>Safari</td>\n",
       "      <td>0</td>\n",
       "      <td>0</td>\n",
       "    </tr>\n",
       "    <tr>\n",
       "      <th>3</th>\n",
       "      <td>100010</td>\n",
       "      <td>Hermano</td>\n",
       "      <td>Logged In</td>\n",
       "      <td>Darianna</td>\n",
       "      <td>F</td>\n",
       "      <td>31</td>\n",
       "      <td>Carpenter</td>\n",
       "      <td>115.90485</td>\n",
       "      <td>free</td>\n",
       "      <td>Bridgeport-Stamford-Norwalk, CT</td>\n",
       "      <td>...</td>\n",
       "      <td>21</td>\n",
       "      <td>11</td>\n",
       "      <td>3</td>\n",
       "      <td>2018-11-21 18:06:07</td>\n",
       "      <td>Bridgeport-Stamford-Norwalk</td>\n",
       "      <td>CT</td>\n",
       "      <td>free</td>\n",
       "      <td>Safari</td>\n",
       "      <td>0</td>\n",
       "      <td>0</td>\n",
       "    </tr>\n",
       "    <tr>\n",
       "      <th>4</th>\n",
       "      <td>100010</td>\n",
       "      <td>None</td>\n",
       "      <td>Logged In</td>\n",
       "      <td>Darianna</td>\n",
       "      <td>F</td>\n",
       "      <td>30</td>\n",
       "      <td>Carpenter</td>\n",
       "      <td>NaN</td>\n",
       "      <td>free</td>\n",
       "      <td>Bridgeport-Stamford-Norwalk, CT</td>\n",
       "      <td>...</td>\n",
       "      <td>21</td>\n",
       "      <td>11</td>\n",
       "      <td>3</td>\n",
       "      <td>2018-11-21 18:00:57</td>\n",
       "      <td>Bridgeport-Stamford-Norwalk</td>\n",
       "      <td>CT</td>\n",
       "      <td>free</td>\n",
       "      <td>Safari</td>\n",
       "      <td>0</td>\n",
       "      <td>0</td>\n",
       "    </tr>\n",
       "  </tbody>\n",
       "</table>\n",
       "<p>5 rows × 29 columns</p>\n",
       "</div>"
      ],
      "text/plain": [
       "   userId      artist       auth firstName gender  itemInSession   lastName  \\\n",
       "0  100010        None  Logged In  Darianna      F             34  Carpenter   \n",
       "1  100010  Lily Allen  Logged In  Darianna      F             33  Carpenter   \n",
       "2  100010  John Waite  Logged In  Darianna      F             32  Carpenter   \n",
       "3  100010     Hermano  Logged In  Darianna      F             31  Carpenter   \n",
       "4  100010        None  Logged In  Darianna      F             30  Carpenter   \n",
       "\n",
       "      length level                         location  ...  day month  week_day  \\\n",
       "0        NaN  free  Bridgeport-Stamford-Norwalk, CT  ...   21    11         3   \n",
       "1  185.25995  free  Bridgeport-Stamford-Norwalk, CT  ...   21    11         3   \n",
       "2  269.76608  free  Bridgeport-Stamford-Norwalk, CT  ...   21    11         3   \n",
       "3  115.90485  free  Bridgeport-Stamford-Norwalk, CT  ...   21    11         3   \n",
       "4        NaN  free  Bridgeport-Stamford-Norwalk, CT  ...   21    11         3   \n",
       "\n",
       "                  time                         city  state  latest_level  \\\n",
       "0  2018-11-21 18:12:32  Bridgeport-Stamford-Norwalk     CT          free   \n",
       "1  2018-11-21 18:12:31  Bridgeport-Stamford-Norwalk     CT          free   \n",
       "2  2018-11-21 18:08:02  Bridgeport-Stamford-Norwalk     CT          free   \n",
       "3  2018-11-21 18:06:07  Bridgeport-Stamford-Norwalk     CT          free   \n",
       "4  2018-11-21 18:00:57  Bridgeport-Stamford-Norwalk     CT          free   \n",
       "\n",
       "  browser churn_state churn  \n",
       "0  Safari           0     0  \n",
       "1  Safari           0     0  \n",
       "2  Safari           0     0  \n",
       "3  Safari           0     0  \n",
       "4  Safari           0     0  \n",
       "\n",
       "[5 rows x 29 columns]"
      ]
     },
     "execution_count": 52,
     "metadata": {},
     "output_type": "execute_result"
    }
   ],
   "source": [
    "#Take a look to the data frame with the churn labels\n",
    "pd.DataFrame(df_cleaned.take(5), columns=df_cleaned.columns).head(5)"
   ]
  },
  {
   "cell_type": "code",
   "execution_count": 53,
   "metadata": {},
   "outputs": [
    {
     "name": "stdout",
     "output_type": "stream",
     "text": [
      "+-----+-----+\n",
      "|churn|count|\n",
      "+-----+-----+\n",
      "|    0|  173|\n",
      "|    1|   52|\n",
      "+-----+-----+\n",
      "\n"
     ]
    }
   ],
   "source": [
    "df_cleaned.select([\"churn\",\"userId\"]).distinct().groupby('churn').count().show()"
   ]
  },
  {
   "cell_type": "markdown",
   "metadata": {},
   "source": [
    "There are 52 users who have been churned... Almost 23% of users have been churned for the given dataset."
   ]
  },
  {
   "cell_type": "markdown",
   "metadata": {},
   "source": [
    "### 2. Analysis  based on the each stage of churn:"
   ]
  },
  {
   "cell_type": "code",
   "execution_count": 54,
   "metadata": {},
   "outputs": [
    {
     "name": "stdout",
     "output_type": "stream",
     "text": [
      "+-----+------+-----+\n",
      "|churn|gender|count|\n",
      "+-----+------+-----+\n",
      "|    0|     F|   84|\n",
      "|    0|     M|   89|\n",
      "|    1|     M|   32|\n",
      "|    1|     F|   20|\n",
      "+-----+------+-----+\n",
      "\n"
     ]
    }
   ],
   "source": [
    "#gender distribution for active and churn users\n",
    "df_cleaned.select([\"churn\",\"userId\",\"gender\"]).distinct().groupby([\"churn\", \"gender\"]).count().sort(\"churn\").show()"
   ]
  },
  {
   "cell_type": "markdown",
   "metadata": {},
   "source": [
    "The churn rate for the Males and Femals are 26.4% and 19.2%."
   ]
  },
  {
   "cell_type": "code",
   "execution_count": 55,
   "metadata": {},
   "outputs": [
    {
     "name": "stdout",
     "output_type": "stream",
     "text": [
      "+-----+------------+-----+\n",
      "|churn|latest_level|count|\n",
      "+-----+------------+-----+\n",
      "|    0|        free|   59|\n",
      "|    0|        paid|  114|\n",
      "|    1|        paid|   31|\n",
      "|    1|        free|   21|\n",
      "+-----+------------+-----+\n",
      "\n"
     ]
    }
   ],
   "source": [
    "#checking the paid status between churn and active users\n",
    "df_cleaned.select([\"churn\",\"userId\",\"latest_level\"]).distinct().groupby([\"churn\", \"latest_level\"]).count().sort(\"churn\").show()"
   ]
  },
  {
   "cell_type": "code",
   "execution_count": null,
   "metadata": {},
   "outputs": [],
   "source": []
  },
  {
   "cell_type": "markdown",
   "metadata": {},
   "source": [
    "The churn rate for the paid and free subscriptions are around 21.4% and 26.3%. They is a slight difference on the level status"
   ]
  },
  {
   "cell_type": "code",
   "execution_count": 99,
   "metadata": {},
   "outputs": [],
   "source": [
    "#Churn ratio for among all pages\n",
    "c1=df_cleaned.select(\"churn\",\"page\",\"userId\").where((df_cleaned.churn == 1) & (df_cleaned.page != \"NextSong\")).groupBy('page').count()\n",
    "c2=df_cleaned.select(\"churn\",\"page\",\"userId\").where((df_cleaned.churn == 0) & (df_cleaned.page != \"NextSong\")).groupBy('page').count()\n",
    "\n",
    "#calculate the percentage of churners and active users for each page\n",
    "churn_user_activity= c1.withColumn('churn_users', f.col('count')*100/f.sum('count').over(Window.partitionBy()))\n",
    "non_churn_user_activity= c2.withColumn('active_users', f.col('count')*100/f.sum('count').over(Window.partitionBy()))\n"
   ]
  },
  {
   "cell_type": "code",
   "execution_count": 112,
   "metadata": {},
   "outputs": [],
   "source": [
    "def percent_melt_df(col):\n",
    "    \n",
    "    #Churn ratio for among all pages\n",
    "    c1=df_cleaned.select(\"churn\",col,\"userId\").where(df_cleaned.churn == 1).groupBy(col).count()\n",
    "    c2=df_cleaned.select(\"churn\",col,\"userId\").where(df_cleaned.churn == 0).groupBy(col).count()\n",
    "\n",
    "    #calculate the percentage of churners and active users for each page\n",
    "    churn_user_activity= c1.withColumn('churn_users', f.col('count')*100/f.sum('count').over(Window.partitionBy()))\n",
    "    non_churn_user_activity= c2.withColumn('active_users', f.col('count')*100/f.sum('count').over(Window.partitionBy()))\n",
    "    \n",
    "    #Joining the churners and active users in a one dataframe\n",
    "    ta = churn_user_activity.alias('ta')\n",
    "    tb = non_churn_user_activity.alias('tb')\n",
    "    churn_percentile_df=ta.join(tb, ta[col] == tb[col]).select([ta[col],\"active_users\",\"churn_users\"]).toPandas()\n",
    "    if col==\"page\":\n",
    "        churn_percentile_df=churn_percentile_df[churn_percentile_df[\"page\"]!=\"NextSong\"]\n",
    "\n",
    "    melt_df = churn_percentile_df.melt(id_vars=col)\n",
    "    return melt_df"
   ]
  },
  {
   "cell_type": "code",
   "execution_count": 113,
   "metadata": {
    "scrolled": true
   },
   "outputs": [
    {
     "data": {
      "image/png": "[encoded data removed]",
      "text/plain": [
       "<matplotlib.figure.Figure at 0x7fb3669aa7f0>"
      ]
     },
     "metadata": {
      "needs_background": "light"
     },
     "output_type": "display_data"
    }
   ],
   "source": [
    "#Plotting churn and active users based on the page usage percentile\n",
    "fig, ax = plt.subplots(figsize=(10, 10))\n",
    "melt_df= percent_melt_df(\"page\")\n",
    "sns.barplot(y='page', x='value', hue='variable', data=melt_df, ax=ax,orient=\"h\", palette=\"Set2\")\n",
    "ax.set_xlabel('Page Activity Ratio (%)')\n",
    "ax.set_title('Page Acvitiy Ratio for Active and Churn Users');\n"
   ]
  },
  {
   "cell_type": "code",
   "execution_count": 116,
   "metadata": {},
   "outputs": [
    {
     "data": {
      "image/png": "[encoded data removed]",
      "text/plain": [
       "<matplotlib.figure.Figure at 0x7fb37b46da20>"
      ]
     },
     "metadata": {
      "needs_background": "light"
     },
     "output_type": "display_data"
    }
   ],
   "source": [
    "\n",
    "#Plotting churn and active users based on the browser usage percentile\n",
    "fig, ax = plt.subplots(figsize=(8, 6))\n",
    "melt_df= percent_melt_df(\"browser\")\n",
    "sns.barplot(y='browser', x='value', hue='variable', data=melt_df, ax=ax,orient=\"h\", palette=\"Set2\")\n",
    "ax.set_xlabel('Browser Usage Ratio (%)')\n",
    "ax.set_title('Browser Usage Ratio for Active and Churn Users');"
   ]
  },
  {
   "cell_type": "markdown",
   "metadata": {},
   "source": [
    "we observe that the majority of users use Chrome, whereas the churn rate is higher for the FireFox Users as shown below."
   ]
  },
  {
   "cell_type": "markdown",
   "metadata": {},
   "source": [
    "### 2.1 Timely behavioural change between Churn and Active Users"
   ]
  },
  {
   "cell_type": "code",
   "execution_count": 61,
   "metadata": {},
   "outputs": [],
   "source": [
    "# for easy manupulation and plotting, converting spark data frame to pandas_dataframe\n",
    "df_pandas=df_cleaned.toPandas()"
   ]
  },
  {
   "cell_type": "code",
   "execution_count": 62,
   "metadata": {},
   "outputs": [],
   "source": [
    "def plotting_time(coln, title=None):\n",
    "    '''\n",
    "     a bar plot for churn and active users based on a specific column (hour, day, etc)\n",
    "    '''\n",
    "    \n",
    "    #Churn customer series \n",
    "    churn_s =df_pandas[df_pandas[\"churn\"]==1]\n",
    "    churn_s=churn_s.groupby(coln)['userId'].count()\n",
    "    \n",
    "    #active customer series\n",
    "    active_s =df_pandas[df_pandas[\"churn\"]==0]\n",
    "    active_s=active_s.groupby(coln)['userId'].count()\n",
    "    \n",
    "    #create data_frame of active and churn users\n",
    "    df_time = pd.DataFrame({'Churn Users':churn_s, \"Active Users\":active_s})\n",
    "    \n",
    "    #create a ratio within each series\n",
    "    norm_df=df_time/df_time.sum()*100\n",
    "    \n",
    "    norm_df=norm_df.reset_index()\n",
    "    norm_df[coln]=norm_df[coln].astype(int)\n",
    "    tidy = norm_df.melt(id_vars=coln)\n",
    "    \n",
    "    fig, ax1 = plt.subplots(figsize=(14, 4))\n",
    "    ax1=sns.barplot(x=coln, y='value', hue='variable', data=tidy, palette='Blues')\n",
    "    \n",
    "    ax1.set_ylabel('Ratio of Users')\n",
    "    ax1.set_xticklabels(ax1.get_xticklabels(), rotation=0)\n",
    "    ax1.set_title(f'Ratio of Users Acivity per {title}') \n",
    "    return ax1"
   ]
  },
  {
   "cell_type": "code",
   "execution_count": 63,
   "metadata": {},
   "outputs": [
    {
     "data": {
      "text/plain": [
       "<matplotlib.axes._subplots.AxesSubplot at 0x7fb3712ee630>"
      ]
     },
     "execution_count": 63,
     "metadata": {},
     "output_type": "execute_result"
    },
    {
     "data": {
      "image/png": "[encoded data removed]",
      "text/plain": [
       "<matplotlib.figure.Figure at 0x7fb3b5b42ba8>"
      ]
     },
     "metadata": {
      "needs_background": "light"
     },
     "output_type": "display_data"
    }
   ],
   "source": [
    "plotting_time('hour', title='hour of the day')"
   ]
  },
  {
   "cell_type": "markdown",
   "metadata": {},
   "source": [
    "It appears that no visual effect of difference between remaining and churn users according to hour of the day. The only effect is that the churn users are more active on the time between 13:00 to 20:00"
   ]
  },
  {
   "cell_type": "code",
   "execution_count": 64,
   "metadata": {},
   "outputs": [
    {
     "data": {
      "text/plain": [
       "<matplotlib.axes._subplots.AxesSubplot at 0x7fb36fa76c88>"
      ]
     },
     "execution_count": 64,
     "metadata": {},
     "output_type": "execute_result"
    },
    {
     "data": {
      "image/png": "[encoded data removed]",
      "text/plain": [
       "<matplotlib.figure.Figure at 0x7fb3729b4cc0>"
      ]
     },
     "metadata": {
      "needs_background": "light"
     },
     "output_type": "display_data"
    }
   ],
   "source": [
    "plotting_time('day', title='day of the month')"
   ]
  },
  {
   "cell_type": "markdown",
   "metadata": {},
   "source": [
    "Most cancellation happens at the end of the month, which is logical to avoid renewal fees."
   ]
  },
  {
   "cell_type": "code",
   "execution_count": 65,
   "metadata": {},
   "outputs": [
    {
     "data": {
      "text/plain": [
       "[Text(0,0,'Mon'),\n",
       " Text(0,0,'Tue'),\n",
       " Text(0,0,'Wed'),\n",
       " Text(0,0,'Thu'),\n",
       " Text(0,0,'Fri'),\n",
       " Text(0,0,'Sat'),\n",
       " Text(0,0,'Sun')]"
      ]
     },
     "execution_count": 65,
     "metadata": {},
     "output_type": "execute_result"
    },
    {
     "data": {
      "image/png": "[encoded data removed]",
      "text/plain": [
       "<matplotlib.figure.Figure at 0x7fb370e2cc18>"
      ]
     },
     "metadata": {
      "needs_background": "light"
     },
     "output_type": "display_data"
    }
   ],
   "source": [
    "ax = plotting_time('week_day', title='week day')\n",
    "ax.set_xticklabels(['Mon', 'Tue', 'Wed', 'Thu', 'Fri', 'Sat', 'Sun'])"
   ]
  },
  {
   "cell_type": "markdown",
   "metadata": {},
   "source": [
    "There is  slight differentiation on Friday, Saturday and Monday between Churn and Active Users.\n",
    "\n",
    "The remaining days have no noticable difference between user's types."
   ]
  },
  {
   "cell_type": "markdown",
   "metadata": {},
   "source": [
    "# Feature Engineering\n",
    "Once you've familiarized yourself with the data, build out the features you find promising to train your model on. To work with the full dataset, you can follow the following steps.\n",
    "- Write a script to extract the necessary features from the smaller subset of data\n",
    "- Ensure that your script is scalable, using the best practices discussed in Lesson 3\n",
    "- Try your script on the full data set, debugging your script if necessary\n",
    "\n",
    "If you are working in the classroom workspace, you can just extract features based on the small subset of data contained here. Be sure to transfer over this work to the larger dataset when you work on your Spark cluster."
   ]
  },
  {
   "cell_type": "markdown",
   "metadata": {},
   "source": [
    "### 3. Feature Creations"
   ]
  },
  {
   "cell_type": "code",
   "execution_count": 120,
   "metadata": {},
   "outputs": [
    {
     "name": "stdout",
     "output_type": "stream",
     "text": [
      "root\n",
      " |-- userId: string (nullable = true)\n",
      " |-- artist: string (nullable = true)\n",
      " |-- auth: string (nullable = true)\n",
      " |-- firstName: string (nullable = true)\n",
      " |-- gender: string (nullable = true)\n",
      " |-- itemInSession: long (nullable = true)\n",
      " |-- lastName: string (nullable = true)\n",
      " |-- length: double (nullable = true)\n",
      " |-- level: string (nullable = true)\n",
      " |-- location: string (nullable = true)\n",
      " |-- method: string (nullable = true)\n",
      " |-- page: string (nullable = true)\n",
      " |-- registration: long (nullable = true)\n",
      " |-- sessionId: long (nullable = true)\n",
      " |-- song: string (nullable = true)\n",
      " |-- status: long (nullable = true)\n",
      " |-- ts: long (nullable = true)\n",
      " |-- userAgent: string (nullable = true)\n",
      " |-- hour: string (nullable = true)\n",
      " |-- day: string (nullable = true)\n",
      " |-- month: string (nullable = true)\n",
      " |-- week_day: string (nullable = true)\n",
      " |-- time: string (nullable = true)\n",
      " |-- city: string (nullable = true)\n",
      " |-- state: string (nullable = true)\n",
      " |-- latest_level: string (nullable = true)\n",
      " |-- browser: string (nullable = true)\n",
      " |-- churn_state: integer (nullable = true)\n",
      " |-- churn: long (nullable = true)\n",
      "\n"
     ]
    }
   ],
   "source": [
    "#check the columns data types\n",
    "df_cleaned.printSchema()"
   ]
  },
  {
   "cell_type": "markdown",
   "metadata": {},
   "source": [
    "#### On the basis of the above EDA, we can create features as follows:\n",
    "\n",
    "- Categorical Features\n",
    "    - The gender of user\n",
    "    - The payment level (Paid/Free)\n",
    "    - The Browser\n",
    "\n",
    "- Numerical Features\n",
    "    - mean,max,min,std of length of users\n",
    "    - numbers of these item in page (NextSong,ThumbsUp, ThumbsDown, AddtoPlaylist, AddFriend, RollAdvert)\n",
    "    - number of unique songs and total songs of users\n",
    "    - number of unique artists of users\n",
    "    - percentage of operations after 15th in a month\n",
    "    - percentage of operations in workday"
   ]
  },
  {
   "cell_type": "markdown",
   "metadata": {},
   "source": [
    "### 3.1 Categorical Features"
   ]
  },
  {
   "cell_type": "code",
   "execution_count": 121,
   "metadata": {},
   "outputs": [],
   "source": [
    "#features: 1-3\n",
    "\n",
    "#Categorical to Numeric features through the String Indexer\n",
    "#Reference: https://stackoverflow.com/q/36942233/13076699\n",
    "\n",
    "indexers = [StringIndexer(inputCol=col, outputCol=col+\"Index\").fit(df_cleaned) for col in list([\"gender\",\"latest_level\",\"browser\"])]\n",
    "pipeline = Pipeline(stages=indexers)\n",
    "\n",
    "categorical_features=pipeline.fit(df_cleaned)\\\n",
    "                             .transform(df_cleaned)\\\n",
    "                             .select([\"userId\",\"genderIndex\",\"latest_levelIndex\",\"browserIndex\"]).distinct().sort(\"userId\")\n"
   ]
  },
  {
   "cell_type": "code",
   "execution_count": 122,
   "metadata": {},
   "outputs": [
    {
     "name": "stdout",
     "output_type": "stream",
     "text": [
      "+------+-----------+-----------------+------------+\n",
      "|userId|genderIndex|latest_levelIndex|browserIndex|\n",
      "+------+-----------+-----------------+------------+\n",
      "|    10|        1.0|              0.0|         0.0|\n",
      "|   100|        1.0|              0.0|         2.0|\n",
      "|100001|        0.0|              1.0|         0.0|\n",
      "+------+-----------+-----------------+------------+\n",
      "only showing top 3 rows\n",
      "\n"
     ]
    }
   ],
   "source": [
    "categorical_features.show(3)"
   ]
  },
  {
   "cell_type": "markdown",
   "metadata": {},
   "source": [
    "### 3.2 Numerical Features"
   ]
  },
  {
   "cell_type": "code",
   "execution_count": 123,
   "metadata": {},
   "outputs": [],
   "source": [
    "#features: 4-7\n",
    "#length\n",
    "feature_length = df_cleaned.select([\"userId\", \"length\"]).groupby([\"userId\"])\\\n",
    "                                                .agg(avg('length').alias('avg_length'), \n",
    "                                                     stddev('length').alias('stdev_length'),\n",
    "                                                     max('length').alias('max_length'),\n",
    "                                                     min('length').alias('min_length')).sort(\"userId\")"
   ]
  },
  {
   "cell_type": "code",
   "execution_count": 124,
   "metadata": {},
   "outputs": [
    {
     "name": "stdout",
     "output_type": "stream",
     "text": [
      "+------+------------------+------------------+----------+----------+\n",
      "|userId|        avg_length|      stdev_length|max_length|min_length|\n",
      "+------+------------------+------------------+----------+----------+\n",
      "|    10|247.94408991084703|   87.304446168749|   978.442|  54.38649|\n",
      "|   100|250.88659828113387|104.76437749593745|2520.99873|  21.91628|\n",
      "|100001|263.71234699248123|100.81745802320421| 655.77751|  48.19546|\n",
      "+------+------------------+------------------+----------+----------+\n",
      "only showing top 3 rows\n",
      "\n"
     ]
    },
    {
     "data": {
      "text/plain": [
       "225"
      ]
     },
     "execution_count": 124,
     "metadata": {},
     "output_type": "execute_result"
    }
   ],
   "source": [
    "feature_length.show(3)\n",
    "feature_length.count()"
   ]
  },
  {
   "cell_type": "code",
   "execution_count": 125,
   "metadata": {},
   "outputs": [],
   "source": [
    "#features: 8-14\n",
    "\n",
    "#count the each page\n",
    "page_count = df_cleaned.select([\"userId\",\"page\"]).groupby([\"userId\",\"page\"]).count()\n",
    "\n",
    "# reshape the data frame with creating the pivot table\n",
    "temp = page_count.groupby('userId').pivot('page').agg(first('count')).fillna(0)\n",
    "\n",
    "# filter insterested columns\n",
    "temp = temp.select(['userId','NextSong','Thumbs Up', 'Thumbs Down', 'Add to Playlist', 'Add Friend', 'Roll Advert']).sort(\"userId\")\n",
    "\n",
    "# column names used to sum up for total\n",
    "cols = temp.columns[1:]\n",
    "\n",
    "# calculate the total \n",
    "feature_page = temp.withColumn('total_page', sum([col(c) for c in cols]))"
   ]
  },
  {
   "cell_type": "code",
   "execution_count": 126,
   "metadata": {},
   "outputs": [
    {
     "name": "stdout",
     "output_type": "stream",
     "text": [
      "+------+--------+---------+-----------+---------------+----------+-----------+----------+\n",
      "|userId|NextSong|Thumbs Up|Thumbs Down|Add to Playlist|Add Friend|Roll Advert|total_page|\n",
      "+------+--------+---------+-----------+---------------+----------+-----------+----------+\n",
      "|    10|     673|       37|          4|              9|        12|          1|       736|\n",
      "|   100|    2682|      148|         27|             61|        49|         25|      2992|\n",
      "|100001|     133|        8|          2|              3|         2|         14|       162|\n",
      "+------+--------+---------+-----------+---------------+----------+-----------+----------+\n",
      "only showing top 3 rows\n",
      "\n"
     ]
    },
    {
     "data": {
      "text/plain": [
       "225"
      ]
     },
     "execution_count": 126,
     "metadata": {},
     "output_type": "execute_result"
    }
   ],
   "source": [
    "feature_page.show(3)\n",
    "feature_page.count()"
   ]
  },
  {
   "cell_type": "code",
   "execution_count": 127,
   "metadata": {},
   "outputs": [],
   "source": [
    "#features: 15\n",
    "\n",
    "#unique songs number\n",
    "feature_nunique_songs = df_cleaned.filter(df_cleaned.page=='NextSong').select([\"userId\",\"song\"]).\\\n",
    "                                             dropDuplicates([\"userId\",\"song\"]).groupby([\"userId\"]).count().sort(\"userId\")\n",
    "\n",
    "feature_nunique_songs=feature_nunique_songs.withColumnRenamed(\"count\", \"num_unique_song\")"
   ]
  },
  {
   "cell_type": "code",
   "execution_count": 128,
   "metadata": {},
   "outputs": [
    {
     "name": "stdout",
     "output_type": "stream",
     "text": [
      "+------+---------------+\n",
      "|userId|num_unique_song|\n",
      "+------+---------------+\n",
      "|    10|            629|\n",
      "|   100|           2302|\n",
      "|100001|            129|\n",
      "+------+---------------+\n",
      "only showing top 3 rows\n",
      "\n"
     ]
    },
    {
     "data": {
      "text/plain": [
       "225"
      ]
     },
     "execution_count": 128,
     "metadata": {},
     "output_type": "execute_result"
    }
   ],
   "source": [
    "feature_nunique_songs.show(3)\n",
    "feature_nunique_songs.count()"
   ]
  },
  {
   "cell_type": "code",
   "execution_count": 129,
   "metadata": {},
   "outputs": [],
   "source": [
    "#features: 16\n",
    "#total songs number\n",
    "feature_ntotal_songs = df_cleaned.filter(df_cleaned.page=='NextSong').select([\"userId\",\"song\"]).\\\n",
    "                                             groupby([\"userId\"]).count().sort(\"userId\")\n",
    "\n",
    "feature_ntotal_songs = feature_ntotal_songs.withColumnRenamed(\"count\", \"ntotal_song\")"
   ]
  },
  {
   "cell_type": "code",
   "execution_count": 130,
   "metadata": {},
   "outputs": [
    {
     "name": "stdout",
     "output_type": "stream",
     "text": [
      "+------+-----------+\n",
      "|userId|ntotal_song|\n",
      "+------+-----------+\n",
      "|    10|        673|\n",
      "|   100|       2682|\n",
      "|100001|        133|\n",
      "+------+-----------+\n",
      "only showing top 3 rows\n",
      "\n"
     ]
    },
    {
     "data": {
      "text/plain": [
       "225"
      ]
     },
     "execution_count": 130,
     "metadata": {},
     "output_type": "execute_result"
    }
   ],
   "source": [
    "feature_ntotal_songs.show(3)\n",
    "feature_ntotal_songs.count()"
   ]
  },
  {
   "cell_type": "code",
   "execution_count": 131,
   "metadata": {},
   "outputs": [],
   "source": [
    "#features: 17\n",
    "#unique artists nunber\n",
    "feature_nunique_artists = df_cleaned.filter(df_cleaned.page=='NextSong').select([\"userId\",\"artist\"]).\\\n",
    "                                               dropDuplicates([\"userId\",\"artist\"]).groupby([\"userId\"]).count().sort(\"userId\")\n",
    "feature_nunique_artists = feature_nunique_artists.withColumnRenamed(\"count\", \"nunique_artist\")"
   ]
  },
  {
   "cell_type": "code",
   "execution_count": 132,
   "metadata": {},
   "outputs": [
    {
     "name": "stdout",
     "output_type": "stream",
     "text": [
      "+------+--------------+\n",
      "|userId|nunique_artist|\n",
      "+------+--------------+\n",
      "|    10|           565|\n",
      "|   100|          1705|\n",
      "|100001|           125|\n",
      "+------+--------------+\n",
      "only showing top 3 rows\n",
      "\n"
     ]
    },
    {
     "data": {
      "text/plain": [
       "225"
      ]
     },
     "execution_count": 132,
     "metadata": {},
     "output_type": "execute_result"
    }
   ],
   "source": [
    "feature_nunique_artists.show(3)\n",
    "feature_nunique_artists.count()"
   ]
  },
  {
   "cell_type": "code",
   "execution_count": 133,
   "metadata": {},
   "outputs": [],
   "source": [
    "#percentage of operations over the day and weekdays\n",
    "day_count = df_cleaned.filter(df_cleaned.day>=15).select(['userId']).groupby([\"userId\"]).count() # number of days greater more than half ot a month\n",
    "day_count = day_count.withColumnRenamed(\"count\", \"day_count\")\n",
    "\n",
    "total_count = df_cleaned.select(['userId']).groupby([\"userId\"]).count()\n",
    "total_count = total_count.withColumnRenamed(\"count\", \"total_count\")\n",
    "\n",
    "weekday_count = df_cleaned.filter(df_cleaned.week_day<5).select(['userId']).groupby([\"userId\"]).count() # number of days in weekdays\n",
    "weekday_count = weekday_count.withColumnRenamed(\"count\", \"weekday_count\")"
   ]
  },
  {
   "cell_type": "code",
   "execution_count": 134,
   "metadata": {},
   "outputs": [],
   "source": [
    "#features: 18-19\n",
    "feature_percentage_month = (total_count.alias(\"t1\").join(day_count.alias(\"t2\"), [\"userId\"]).\\\n",
    "                              select(col(\"userId\"), (col(\"t2.day_count\") / col(\"t1.total_count\")).alias(\"month_percentage\"))).sort(\"userId\")\n",
    "    \n",
    "feature_percentage_week = (total_count.alias(\"t1\").join(weekday_count.alias(\"t2\"), [\"userId\"]).\\\n",
    "                          select(col(\"userId\"), (col(\"t2.weekday_count\") / col(\"t1.total_count\")).alias(\"week_percentage\"))).sort(\"userId\")"
   ]
  },
  {
   "cell_type": "code",
   "execution_count": 135,
   "metadata": {},
   "outputs": [
    {
     "name": "stdout",
     "output_type": "stream",
     "text": [
      "+------+-------------------+\n",
      "|userId|   month_percentage|\n",
      "+------+-------------------+\n",
      "|    10| 0.8138364779874214|\n",
      "|   100| 0.5634723086496577|\n",
      "|100002|0.26146788990825687|\n",
      "+------+-------------------+\n",
      "only showing top 3 rows\n",
      "\n",
      "+------+------------------+\n",
      "|userId|   week_percentage|\n",
      "+------+------------------+\n",
      "|    10|0.7610062893081762|\n",
      "|   100|0.9231487243310517|\n",
      "|100001|               1.0|\n",
      "+------+------------------+\n",
      "only showing top 3 rows\n",
      "\n"
     ]
    },
    {
     "data": {
      "text/plain": [
       "219"
      ]
     },
     "execution_count": 135,
     "metadata": {},
     "output_type": "execute_result"
    }
   ],
   "source": [
    "feature_percentage_month.show(3)\n",
    "feature_percentage_week.show(3)\n",
    "feature_percentage_month.count()\n",
    "feature_percentage_week.count()\n"
   ]
  },
  {
   "cell_type": "markdown",
   "metadata": {},
   "source": [
    "### 3.3 Merging and Saving All Features Data Frame"
   ]
  },
  {
   "cell_type": "code",
   "execution_count": 136,
   "metadata": {},
   "outputs": [],
   "source": [
    "#merge all 7 numerical features together\n",
    "numerical_features = feature_length.\\\n",
    "                        join(feature_page,on='userId',how='inner').\\\n",
    "                        join(feature_nunique_songs,on='userId',how='inner').\\\n",
    "                        join(feature_ntotal_songs,on='userId',how='inner').\\\n",
    "                        join(feature_nunique_artists,on='userId',how='inner').\\\n",
    "                        join(feature_percentage_month,on='userId',how='outer').\\\n",
    "                        join(feature_percentage_week,on='userId',how='outer').sort(\"userId\")\n",
    "\n",
    "numerical_features = numerical_features.na.fill(0)"
   ]
  },
  {
   "cell_type": "code",
   "execution_count": 137,
   "metadata": {},
   "outputs": [
    {
     "name": "stdout",
     "output_type": "stream",
     "text": [
      "+------+------------------+------------------+----------+----------+--------+---------+-----------+---------------+----------+-----------+----------+---------------+-----------+--------------+------------------+------------------+\n",
      "|userId|        avg_length|      stdev_length|max_length|min_length|NextSong|Thumbs Up|Thumbs Down|Add to Playlist|Add Friend|Roll Advert|total_page|num_unique_song|ntotal_song|nunique_artist|  month_percentage|   week_percentage|\n",
      "+------+------------------+------------------+----------+----------+--------+---------+-----------+---------------+----------+-----------+----------+---------------+-----------+--------------+------------------+------------------+\n",
      "|    10|247.94408991084703|   87.304446168749|   978.442|  54.38649|     673|       37|          4|              9|        12|          1|       736|            629|        673|           565|0.8138364779874214|0.7610062893081762|\n",
      "|   100|250.88659828113387|104.76437749593745|2520.99873|  21.91628|    2682|      148|         27|             61|        49|         25|      2992|           2302|       2682|          1705|0.5634723086496577|0.9231487243310517|\n",
      "|100001|263.71234699248123|100.81745802320421| 655.77751|  48.19546|     133|        8|          2|              3|         2|         14|       162|            129|        133|           125|               0.0|               1.0|\n",
      "+------+------------------+------------------+----------+----------+--------+---------+-----------+---------------+----------+-----------+----------+---------------+-----------+--------------+------------------+------------------+\n",
      "only showing top 3 rows\n",
      "\n"
     ]
    }
   ],
   "source": [
    "numerical_features.show(3)"
   ]
  },
  {
   "cell_type": "code",
   "execution_count": 138,
   "metadata": {},
   "outputs": [],
   "source": [
    "#Join \"Churn\" labels, Categorical and Numerical features as a dataframe\n",
    "label = df_cleaned.select(['userId','churn']).dropDuplicates()\n",
    "\n",
    "df_all_features = categorical_features\\\n",
    "                 .join(numerical_features,on='userId',how='inner')\\\n",
    "                 .join(label,on='userId',how='inner').sort(\"userId\")\\"
   ]
  },
  {
   "cell_type": "code",
   "execution_count": 139,
   "metadata": {},
   "outputs": [
    {
     "name": "stdout",
     "output_type": "stream",
     "text": [
      "+------+-----------+-----------------+------------+------------------+------------------+----------+----------+--------+---------+-----------+---------------+----------+-----------+----------+---------------+-----------+--------------+------------------+------------------+-----+\n",
      "|userId|genderIndex|latest_levelIndex|browserIndex|        avg_length|      stdev_length|max_length|min_length|NextSong|Thumbs Up|Thumbs Down|Add to Playlist|Add Friend|Roll Advert|total_page|num_unique_song|ntotal_song|nunique_artist|  month_percentage|   week_percentage|churn|\n",
      "+------+-----------+-----------------+------------+------------------+------------------+----------+----------+--------+---------+-----------+---------------+----------+-----------+----------+---------------+-----------+--------------+------------------+------------------+-----+\n",
      "|    10|        1.0|              0.0|         0.0|247.94408991084703|   87.304446168749|   978.442|  54.38649|     673|       37|          4|              9|        12|          1|       736|            629|        673|           565|0.8138364779874214|0.7610062893081762|    0|\n",
      "|   100|        1.0|              0.0|         2.0|250.88659828113387|104.76437749593745|2520.99873|  21.91628|    2682|      148|         27|             61|        49|         25|      2992|           2302|       2682|          1705|0.5634723086496577|0.9231487243310517|    0|\n",
      "|100001|        0.0|              1.0|         0.0|263.71234699248123|100.81745802320421| 655.77751|  48.19546|     133|        8|          2|              3|         2|         14|       162|            129|        133|           125|               0.0|               1.0|    1|\n",
      "+------+-----------+-----------------+------------+------------------+------------------+----------+----------+--------+---------+-----------+---------------+----------+-----------+----------+---------------+-----------+--------------+------------------+------------------+-----+\n",
      "only showing top 3 rows\n",
      "\n"
     ]
    }
   ],
   "source": [
    "df_all_features.show(3)"
   ]
  },
  {
   "cell_type": "code",
   "execution_count": 140,
   "metadata": {},
   "outputs": [],
   "source": [
    "#backing up all results for later use\n",
    "df_all_features.write.mode(\"overwrite\").save('df_final.json',format='json',header=True)"
   ]
  },
  {
   "cell_type": "code",
   "execution_count": 141,
   "metadata": {},
   "outputs": [],
   "source": [
    "#load from backup file\n",
    "df_final = spark.read.json('df_final.json')"
   ]
  },
  {
   "cell_type": "code",
   "execution_count": 142,
   "metadata": {},
   "outputs": [
    {
     "data": {
      "text/plain": [
       "['Add Friend',\n",
       " 'Add to Playlist',\n",
       " 'NextSong',\n",
       " 'Roll Advert',\n",
       " 'Thumbs Down',\n",
       " 'Thumbs Up',\n",
       " 'avg_length',\n",
       " 'browserIndex',\n",
       " 'churn',\n",
       " 'genderIndex',\n",
       " 'latest_levelIndex',\n",
       " 'max_length',\n",
       " 'min_length',\n",
       " 'month_percentage',\n",
       " 'ntotal_song',\n",
       " 'num_unique_song',\n",
       " 'nunique_artist',\n",
       " 'stdev_length',\n",
       " 'total_page',\n",
       " 'userId',\n",
       " 'week_percentage']"
      ]
     },
     "execution_count": 142,
     "metadata": {},
     "output_type": "execute_result"
    }
   ],
   "source": [
    "df_final.columns"
   ]
  },
  {
   "cell_type": "code",
   "execution_count": 143,
   "metadata": {},
   "outputs": [],
   "source": [
    "#define categorical and numerical columns from loaded data\n",
    "categorical_cols = ['genderIndex','browserIndex','latest_levelIndex']\n",
    "numerical_cols = list(set([col_name for col_name in df_final.columns if col_name not in categorical_cols])-set([\"userId\",\"churn\"]))\n",
    "feature_cols=numerical_cols + categorical_cols"
   ]
  },
  {
   "cell_type": "code",
   "execution_count": 144,
   "metadata": {},
   "outputs": [
    {
     "name": "stdout",
     "output_type": "stream",
     "text": [
      "root\n",
      " |-- Add Friend: long (nullable = true)\n",
      " |-- Add to Playlist: long (nullable = true)\n",
      " |-- NextSong: long (nullable = true)\n",
      " |-- Roll Advert: long (nullable = true)\n",
      " |-- Thumbs Down: long (nullable = true)\n",
      " |-- Thumbs Up: long (nullable = true)\n",
      " |-- avg_length: double (nullable = true)\n",
      " |-- browserIndex: double (nullable = true)\n",
      " |-- churn: long (nullable = true)\n",
      " |-- genderIndex: double (nullable = true)\n",
      " |-- latest_levelIndex: double (nullable = true)\n",
      " |-- max_length: double (nullable = true)\n",
      " |-- min_length: double (nullable = true)\n",
      " |-- month_percentage: double (nullable = true)\n",
      " |-- ntotal_song: long (nullable = true)\n",
      " |-- num_unique_song: long (nullable = true)\n",
      " |-- nunique_artist: long (nullable = true)\n",
      " |-- stdev_length: double (nullable = true)\n",
      " |-- total_page: long (nullable = true)\n",
      " |-- userId: string (nullable = true)\n",
      " |-- week_percentage: double (nullable = true)\n",
      "\n",
      "Features are: ['min_length', 'max_length', 'week_percentage', 'Roll Advert', 'Thumbs Up', 'ntotal_song', 'Thumbs Down', 'avg_length', 'month_percentage', 'nunique_artist', 'Add to Playlist', 'NextSong', 'total_page', 'num_unique_song', 'stdev_length', 'Add Friend', 'genderIndex', 'browserIndex', 'latest_levelIndex']\n"
     ]
    }
   ],
   "source": [
    "df_final.printSchema()\n",
    "print(f\"Features are:\" ,feature_cols)"
   ]
  },
  {
   "cell_type": "markdown",
   "metadata": {},
   "source": [
    "### 3.4 Pre-processing Data"
   ]
  },
  {
   "cell_type": "code",
   "execution_count": 145,
   "metadata": {},
   "outputs": [],
   "source": [
    "#implement standscaler\n",
    "#vector Assembler and Standardize features by removing the mean and scaling to unit variance\n",
    "assembler = VectorAssembler(inputCols=list(feature_cols), outputCol='features')\n",
    "\n",
    "temp = assembler.transform(df_final)\n",
    "scaler = StandardScaler(inputCol='features', outputCol='features_scaled')\n",
    "\n",
    "#The scaled version of the dataframe\n",
    "scaled_inputs = scaler.fit(temp).transform(temp)\n"
   ]
  },
  {
   "cell_type": "code",
   "execution_count": 146,
   "metadata": {},
   "outputs": [
    {
     "name": "stdout",
     "output_type": "stream",
     "text": [
      "+-----+--------------------+--------------------+\n",
      "|churn|            features|     features_scaled|\n",
      "+-----+--------------------+--------------------+\n",
      "|    0|[27.01016,2520.99...|[0.75243368105073...|\n",
      "|    0|[11.93751,2520.99...|[0.33254836668423...|\n",
      "|    0|[11.93751,2015.79...|[0.33254836668423...|\n",
      "+-----+--------------------+--------------------+\n",
      "only showing top 3 rows\n",
      "\n"
     ]
    }
   ],
   "source": [
    "scaled_inputs.select(\"churn\",\"features\",\"features_scaled\").show(3)"
   ]
  },
  {
   "cell_type": "code",
   "execution_count": 147,
   "metadata": {},
   "outputs": [],
   "source": [
    "# Select the output and input features\n",
    "model_data = scaled_inputs.select(scaled_inputs.churn.alias('label'), scaled_inputs.features_scaled.alias('features'))"
   ]
  },
  {
   "cell_type": "code",
   "execution_count": 156,
   "metadata": {},
   "outputs": [
    {
     "data": {
      "text/plain": [
       "[Row(label=0, features=DenseVector([0.7524, 3.5243, 3.0784, 0.232, 1.8938, 2.3349, 1.8352, 41.7345, 2.4682, 2.679, 1.9562, 2.3349, 2.2938, 2.4744, 5.5587, 2.0406, 2.0013, 2.0816, 0.0])),\n",
       " Row(label=0, features=DenseVector([0.3325, 3.5243, 2.7763, 3.9443, 4.4595, 5.3803, 5.5056, 42.223, 2.078, 4.8083, 5.5324, 5.3803, 5.4012, 5.1563, 5.7991, 5.3445, 0.0, 1.0408, 2.0844]))]"
      ]
     },
     "execution_count": 156,
     "metadata": {},
     "output_type": "execute_result"
    }
   ],
   "source": [
    "model_data.take(2)"
   ]
  },
  {
   "cell_type": "markdown",
   "metadata": {},
   "source": [
    "# Modeling\n",
    "Split the full dataset into train, test, and validation sets. Test out several of the machine learning methods you learned. Evaluate the accuracy of the various models, tuning parameters as necessary. Determine your winning model based on test accuracy and report results on the validation set. Since the churned users are a fairly small subset, I suggest using F1 score as the metric to optimize."
   ]
  },
  {
   "cell_type": "code",
   "execution_count": 149,
   "metadata": {},
   "outputs": [],
   "source": [
    "def fit_predict(train, test, model):\n",
    "    '''\n",
    "    Fits and runs predictions with given Spark training and test data\n",
    "    \n",
    "    train : training data\n",
    "    test  : testing data\n",
    "    model : model name \n",
    "    :return \n",
    "    '''\n",
    "    \n",
    "    #Train the model\n",
    "    clf = model.fit(train)\n",
    "    \n",
    "    #predictions\n",
    "    predict_data = clf.transform(test)\n",
    "    model_name=str(model).split(\"_\", 1)[0]\n",
    "    print(\"\\n\",model_name +\" Model:\")\n",
    "    evaluate_model(predict_data)    \n",
    "      \n",
    "    return clf, predict_data\n"
   ]
  },
  {
   "cell_type": "code",
   "execution_count": 150,
   "metadata": {},
   "outputs": [],
   "source": [
    "def evaluate_model(predict_data):\n",
    "    '''\n",
    "    Runs output evaluator on the prediction results\n",
    "    \n",
    "    results: Spark DataFrame, model prediction outputs\n",
    "    return None\n",
    "    '''\n",
    "     \n",
    "    evaluator = MulticlassClassificationEvaluator()\n",
    "    auc_evaluator = BinaryClassificationEvaluator()\n",
    "    f1_score = evaluator.evaluate(predict_data.select(col('label'), col('prediction')),{evaluator.metricName : \"f1\"})\n",
    "    accuracy_score= evaluator.evaluate(predict_data.select(col('label'), col('prediction')),{evaluator.metricName : \"accuracy\"})\n",
    "    \n",
    "    auc_value = auc_evaluator.evaluate(predict_data, {auc_evaluator.metricName: \"areaUnderROC\"})\n",
    "        \n",
    "    print(' The F1 score is {:.2%}'.format(f1_score)) \n",
    "    print(\" The accuracy is {:.2%}\".format(accuracy_score))    \n",
    "    print(' The areaUnderROC is {:.2%}'.format(auc_value))"
   ]
  },
  {
   "cell_type": "markdown",
   "metadata": {},
   "source": [
    "### BaseLine Models"
   ]
  },
  {
   "cell_type": "code",
   "execution_count": 151,
   "metadata": {},
   "outputs": [],
   "source": [
    "# Defining training and testing samples\n",
    "train, test = model_data.randomSplit([0.8, 0.2],seed=7)"
   ]
  },
  {
   "cell_type": "code",
   "execution_count": 152,
   "metadata": {},
   "outputs": [
    {
     "name": "stdout",
     "output_type": "stream",
     "text": [
      "\n",
      " LogisticRegression Model:\n",
      " The F1 score is 82.11%\n",
      " The accuracy is 85.42%\n",
      " The areaUnderROC is 66.32%\n",
      "\n",
      " RandomForestClassifier Model:\n",
      " The F1 score is 76.99%\n",
      " The accuracy is 81.25%\n",
      " The areaUnderROC is 66.84%\n",
      "\n",
      " LinearSVC Model:\n",
      " The F1 score is 69.96%\n",
      " The accuracy is 79.17%\n",
      " The areaUnderROC is 63.68%\n",
      "\n",
      " GBTClassifier Model:\n",
      " The F1 score is 81.67%\n",
      " The accuracy is 83.33%\n",
      " The areaUnderROC is 62.89%\n",
      "\n",
      " DecisionTreeClassifier Model:\n",
      " The F1 score is 76.63%\n",
      " The accuracy is 77.08%\n",
      " The areaUnderROC is 49.47%\n",
      "\n",
      " NaiveBayes Model:\n",
      " The F1 score is 67.38%\n",
      " The accuracy is 64.58%\n",
      " The areaUnderROC is 61.05%\n"
     ]
    }
   ],
   "source": [
    "# Fit various models and get their accuracies with the default parameters\n",
    "Models=[LogisticRegression(),RandomForestClassifier(),LinearSVC(),GBTClassifier(),DecisionTreeClassifier(),NaiveBayes()]\n",
    "#Models=[GBTClassifier()]\n",
    "for model in Models:\n",
    "    fit_predict(train, test, model)"
   ]
  },
  {
   "cell_type": "markdown",
   "metadata": {},
   "source": [
    "Selecting the classifier\n",
    "Comparing the F-1 score and accuracy of among the classifiers, we see that Logistic Regression has the highest score. I will select this classifier for the next step: Tuning model"
   ]
  },
  {
   "cell_type": "markdown",
   "metadata": {},
   "source": [
    "### Tuning \n",
    "##### Logistic Regression Model"
   ]
  },
  {
   "cell_type": "code",
   "execution_count": 185,
   "metadata": {},
   "outputs": [
    {
     "name": "stdout",
     "output_type": "stream",
     "text": [
      " The F1 score is 78.57%\n",
      " The accuracy is 83.33%\n",
      " The areaUnderROC is 63.16%\n"
     ]
    }
   ],
   "source": [
    "# Tuning Hyperparameters for the LogisticRegression model using Grid Search\n",
    "lr= LogisticRegression()\n",
    "\n",
    "paramGrid = ParamGridBuilder()\\\n",
    "                .addGrid(lr.regParam, [0.3, 0.1, 0.01])\\\n",
    "                .addGrid(lr.elasticNetParam, [0.3,0.8,1.0])\\\n",
    "                .addGrid(lr.maxIter, [5,10,15])\\\n",
    "                .build()\n",
    "\n",
    "crossval = CrossValidator(estimator=lr,\n",
    "                          estimatorParamMaps=paramGrid,\n",
    "                          evaluator=MulticlassClassificationEvaluator(metricName=\"f1\"),\n",
    "                          numFolds=3)\n",
    "\n",
    "#Train the model\n",
    "cvModel = crossval.fit(train)\n",
    "\n",
    "\n",
    "#predict model on the test data set\n",
    "predictions = cvModel.transform(test)\n",
    "\n",
    "#Evaluate Model Prediction Results\n",
    "evaluate_model(predictions)\n"
   ]
  },
  {
   "cell_type": "markdown",
   "metadata": {},
   "source": [
    "In fact, we could not get outperformed our Logistic Regression results with default parameters, thus we keep base Logistic Regression Model for the final Model."
   ]
  },
  {
   "cell_type": "code",
   "execution_count": 186,
   "metadata": {},
   "outputs": [
    {
     "name": "stdout",
     "output_type": "stream",
     "text": [
      "\n",
      " LogisticRegression Model:\n",
      " The F1 score is 82.11%\n",
      " The accuracy is 85.42%\n",
      " The areaUnderROC is 66.32%\n"
     ]
    }
   ],
   "source": [
    "#LogisticRegression model with default parameters\n",
    "final_model= LogisticRegression()\n",
    "clf, predict_data=fit_predict(train, test, final_model)\n"
   ]
  },
  {
   "cell_type": "code",
   "execution_count": 188,
   "metadata": {},
   "outputs": [
    {
     "name": "stdout",
     "output_type": "stream",
     "text": [
      "Best parameters : regParam:0.0, elasticNetParam:0.0,maxIter:100\n"
     ]
    }
   ],
   "source": [
    "#Find the best parameters\n",
    "print('Best parameters : regParam:{}, elasticNetParam:{},maxIter:{}'.\\\n",
    "    format(clf.getOrDefault('regParam'),clf.getOrDefault('elasticNetParam'),clf.getOrDefault('maxIter')))"
   ]
  },
  {
   "cell_type": "code",
   "execution_count": 189,
   "metadata": {},
   "outputs": [
    {
     "data": {
      "text/plain": [
       "array([-0.2639066 ,  0.70356418, -0.39745721,  0.23171622, -1.84104177,\n",
       "        0.00972981,  0.29842908,  0.09840786, -0.82540522, -0.3017112 ,\n",
       "        1.56059366,  0.00972981, -0.04348205, -0.02822016, -0.36584544,\n",
       "       -1.24923551,  0.26781465,  0.04938195, -0.42237395])"
      ]
     },
     "execution_count": 189,
     "metadata": {},
     "output_type": "execute_result"
    }
   ],
   "source": [
    "clf.coefficients.toArray()"
   ]
  },
  {
   "cell_type": "markdown",
   "metadata": {},
   "source": [
    "#### Analysing the Feature Importances"
   ]
  },
  {
   "cell_type": "code",
   "execution_count": 190,
   "metadata": {},
   "outputs": [
    {
     "data": {
      "text/plain": [
       "<matplotlib.axes._subplots.AxesSubplot at 0x7fb373bb2588>"
      ]
     },
     "execution_count": 190,
     "metadata": {},
     "output_type": "execute_result"
    },
    {
     "data": {
      "image/png": "[encoded data removed]",
      "text/plain": [
       "<matplotlib.figure.Figure at 0x7fb37a08e4a8>"
      ]
     },
     "metadata": {
      "needs_background": "light"
     },
     "output_type": "display_data"
    }
   ],
   "source": [
    "fig, ax = plt.subplots(figsize=(10, 10))\n",
    "feature_importances = list(clf.coefficients.toArray())\n",
    "feature_importance_df = pd.DataFrame({'feature_importance': feature_importances, 'feature_columns': feature_cols}).sort_values(\"feature_importance\",ascending=False)\n",
    "sns.barplot(x='feature_importance', y='feature_columns', data=feature_importance_df)"
   ]
  },
  {
   "cell_type": "markdown",
   "metadata": {},
   "source": [
    "The most important 3 features \"count of thumbs up\" and \"Add Friend\" ,\"Add to Playlits\" play significantly on prediction user churn."
   ]
  },
  {
   "cell_type": "markdown",
   "metadata": {},
   "source": [
    "\n",
    "### Conclusion\n",
    "To sum up the project , we execute the following steps:\n",
    "\n",
    "1. Load the dataset into Apache Spark and made a initial anaysis to clean and formatting the dataset\n",
    "2. Define the Churn and did basic EDA on the cleaned data frame for the possible feature selection\n",
    "3. Categorical and Numerical features have been selected.\n",
    "4. Pre-processing has been done via scaling and transforming\n",
    "5. Calculated features have been fed to various type of Machine learning algorithms.\n",
    "6. Based on the prediction evaluations, selected one of the best performed ML classifier.\n",
    "7. Fine Tuning on the best performed model to find the best hyperparameters\n",
    "8. Find and plot the most important features that affect churn predictions\n",
    "\n"
   ]
  },
  {
   "cell_type": "markdown",
   "metadata": {},
   "source": [
    "# Final Steps\n",
    "Clean up your code, adding comments and renaming variables to make the code easier to read and maintain. Refer to the Spark Project Overview page and Data Scientist Capstone Project Rubric to make sure you are including all components of the capstone project and meet all expectations. Remember, this includes thorough documentation in a README file in a Github repository, as well as a web app or blog post."
   ]
  }
 ],
 "metadata": {
  "kernelspec": {
   "display_name": "Python 3",
   "language": "python",
   "name": "python3"
  },
  "language_info": {
   "codemirror_mode": {
    "name": "ipython",
    "version": 3
   },
   "file_extension": ".py",
   "mimetype": "text/x-python",
   "name": "python",
   "nbconvert_exporter": "python",
   "pygments_lexer": "ipython3",
   "version": "3.6.3"
  }
 },
 "nbformat": 4,
 "nbformat_minor": 2
}
